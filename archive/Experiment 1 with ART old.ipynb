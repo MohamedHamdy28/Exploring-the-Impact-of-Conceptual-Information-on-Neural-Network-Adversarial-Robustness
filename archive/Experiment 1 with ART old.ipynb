{
 "cells": [
  {
   "cell_type": "code",
   "execution_count": 5,
   "id": "6f7438a3-e8b9-47bd-b09e-76c6407e68ef",
   "metadata": {},
   "outputs": [
    {
     "name": "stdout",
     "output_type": "stream",
     "text": [
      "Collecting matplotlib\n",
      "  Using cached matplotlib-3.8.3-cp310-cp310-manylinux_2_17_x86_64.manylinux2014_x86_64.whl.metadata (5.8 kB)\n",
      "Collecting scikit-learn\n",
      "  Using cached scikit_learn-1.4.1.post1-cp310-cp310-manylinux_2_17_x86_64.manylinux2014_x86_64.whl.metadata (11 kB)\n",
      "Collecting contourpy>=1.0.1 (from matplotlib)\n",
      "  Using cached contourpy-1.2.0-cp310-cp310-manylinux_2_17_x86_64.manylinux2014_x86_64.whl.metadata (5.8 kB)\n",
      "Collecting cycler>=0.10 (from matplotlib)\n",
      "  Using cached cycler-0.12.1-py3-none-any.whl.metadata (3.8 kB)\n",
      "Collecting fonttools>=4.22.0 (from matplotlib)\n",
      "  Using cached fonttools-4.49.0-cp310-cp310-manylinux_2_17_x86_64.manylinux2014_x86_64.whl.metadata (159 kB)\n",
      "Collecting kiwisolver>=1.3.1 (from matplotlib)\n",
      "  Using cached kiwisolver-1.4.5-cp310-cp310-manylinux_2_12_x86_64.manylinux2010_x86_64.whl.metadata (6.4 kB)\n",
      "Requirement already satisfied: numpy<2,>=1.21 in /root/miniconda3/envs/py3.10/lib/python3.10/site-packages (from matplotlib) (1.26.3)\n",
      "Requirement already satisfied: packaging>=20.0 in /root/miniconda3/envs/py3.10/lib/python3.10/site-packages (from matplotlib) (23.2)\n",
      "Requirement already satisfied: pillow>=8 in /root/miniconda3/envs/py3.10/lib/python3.10/site-packages (from matplotlib) (10.2.0)\n",
      "Collecting pyparsing>=2.3.1 (from matplotlib)\n",
      "  Using cached pyparsing-3.1.1-py3-none-any.whl.metadata (5.1 kB)\n",
      "Requirement already satisfied: python-dateutil>=2.7 in /root/miniconda3/envs/py3.10/lib/python3.10/site-packages (from matplotlib) (2.8.2)\n",
      "Collecting scipy>=1.6.0 (from scikit-learn)\n",
      "  Using cached scipy-1.12.0-cp310-cp310-manylinux_2_17_x86_64.manylinux2014_x86_64.whl.metadata (60 kB)\n",
      "Collecting joblib>=1.2.0 (from scikit-learn)\n",
      "  Using cached joblib-1.3.2-py3-none-any.whl.metadata (5.4 kB)\n",
      "Collecting threadpoolctl>=2.0.0 (from scikit-learn)\n",
      "  Using cached threadpoolctl-3.3.0-py3-none-any.whl.metadata (13 kB)\n",
      "Requirement already satisfied: six>=1.5 in /root/miniconda3/envs/py3.10/lib/python3.10/site-packages (from python-dateutil>=2.7->matplotlib) (1.16.0)\n",
      "Using cached matplotlib-3.8.3-cp310-cp310-manylinux_2_17_x86_64.manylinux2014_x86_64.whl (11.6 MB)\n",
      "Using cached scikit_learn-1.4.1.post1-cp310-cp310-manylinux_2_17_x86_64.manylinux2014_x86_64.whl (12.1 MB)\n",
      "Using cached contourpy-1.2.0-cp310-cp310-manylinux_2_17_x86_64.manylinux2014_x86_64.whl (310 kB)\n",
      "Using cached cycler-0.12.1-py3-none-any.whl (8.3 kB)\n",
      "Using cached fonttools-4.49.0-cp310-cp310-manylinux_2_17_x86_64.manylinux2014_x86_64.whl (4.6 MB)\n",
      "Using cached joblib-1.3.2-py3-none-any.whl (302 kB)\n",
      "Using cached kiwisolver-1.4.5-cp310-cp310-manylinux_2_12_x86_64.manylinux2010_x86_64.whl (1.6 MB)\n",
      "Using cached pyparsing-3.1.1-py3-none-any.whl (103 kB)\n",
      "Using cached scipy-1.12.0-cp310-cp310-manylinux_2_17_x86_64.manylinux2014_x86_64.whl (38.4 MB)\n",
      "Using cached threadpoolctl-3.3.0-py3-none-any.whl (17 kB)\n",
      "Installing collected packages: threadpoolctl, scipy, pyparsing, kiwisolver, joblib, fonttools, cycler, contourpy, scikit-learn, matplotlib\n",
      "Successfully installed contourpy-1.2.0 cycler-0.12.1 fonttools-4.49.0 joblib-1.3.2 kiwisolver-1.4.5 matplotlib-3.8.3 pyparsing-3.1.1 scikit-learn-1.4.1.post1 scipy-1.12.0 threadpoolctl-3.3.0\n",
      "\u001b[33mWARNING: Running pip as the 'root' user can result in broken permissions and conflicting behaviour with the system package manager. It is recommended to use a virtual environment instead: https://pip.pypa.io/warnings/venv\u001b[0m\u001b[33m\n",
      "\u001b[0m\n",
      "\u001b[1m[\u001b[0m\u001b[34;49mnotice\u001b[0m\u001b[1;39;49m]\u001b[0m\u001b[39;49m A new release of pip is available: \u001b[0m\u001b[31;49m23.3.2\u001b[0m\u001b[39;49m -> \u001b[0m\u001b[32;49m24.0\u001b[0m\n",
      "\u001b[1m[\u001b[0m\u001b[34;49mnotice\u001b[0m\u001b[1;39;49m]\u001b[0m\u001b[39;49m To update, run: \u001b[0m\u001b[32;49mpip install --upgrade pip\u001b[0m\n"
     ]
    }
   ],
   "source": [
    "!pip install matplotlib scikit-learn"
   ]
  },
  {
   "cell_type": "code",
   "execution_count": 6,
   "id": "a75136d3-251a-4040-a501-bbd117ef8bab",
   "metadata": {},
   "outputs": [],
   "source": [
    "import torch\n",
    "import random\n",
    "import numpy as np\n",
    "\n",
    "def set_seed(seed_value):\n",
    "    torch.manual_seed(seed_value)\n",
    "    torch.cuda.manual_seed(seed_value)\n",
    "    torch.cuda.manual_seed_all(seed_value)  # if you are using multi-GPU.\n",
    "    np.random.seed(seed_value)  # Numpy module.\n",
    "    random.seed(seed_value)  # Python random module.\n",
    "    torch.backends.cudnn.benchmark = False\n",
    "    torch.backends.cudnn.deterministic = True\n",
    "\n",
    "\n",
    "set_seed(42)"
   ]
  },
  {
   "cell_type": "code",
   "execution_count": 7,
   "id": "6a8853a9-69b6-4e99-a0b3-83dfc6117a2c",
   "metadata": {},
   "outputs": [
    {
     "data": {
      "text/plain": [
       "'cuda'"
      ]
     },
     "execution_count": 7,
     "metadata": {},
     "output_type": "execute_result"
    }
   ],
   "source": [
    "import torch\n",
    "device = \"cuda\" if torch.cuda.is_available() else \"cpu\"\n",
    "device"
   ]
  },
  {
   "cell_type": "code",
   "execution_count": 18,
   "id": "c877764c-b97e-4cb7-b04a-5b76a9281b0c",
   "metadata": {},
   "outputs": [],
   "source": [
    "from mimetypes import init\n",
    "from pyexpat import model\n",
    "import torch\n",
    "import torch.nn as nn\n",
    "from torch.utils.data import Dataset\n",
    "from torch.utils.data import DataLoader\n",
    "from torchvision.datasets import MNIST\n",
    "from torchvision.transforms import ToTensor, Lambda\n",
    "from torchvision import transforms\n",
    "from torch.nn import CrossEntropyLoss, BCEWithLogitsLoss\n",
    "\n",
    "import matplotlib.pyplot as plt\n",
    "import random\n",
    "import pdb\n",
    "import argparse\n",
    "\n",
    "\n",
    "class MNISTDatasetWithConcepts(Dataset):\n",
    "    def __init__(self,split,num_classes,transform):\n",
    "        isTrain = False\n",
    "        if split == \"train\":\n",
    "            isTrain=True\n",
    "        self.device = \"cuda\" if torch.cuda.is_available() else \"cpu\"\n",
    "        self.data = MNIST(root = \"./synthetic_datasets\",train=isTrain, download=True)\n",
    "        self.num_classes = num_classes\n",
    "        self.transform = transform\n",
    "        # print(len(set([self.data[i][1] for i in range(len(self.data))])))\n",
    "        self.load_data()\n",
    "    \n",
    "    def load_data(self):\n",
    "        self.all_data = []\n",
    "        for img, label in self.data:\n",
    "            onehot = torch.zeros((self.num_classes,))\n",
    "            onehot[label] =1\n",
    "            concept = self.make_concepts_mnist(label)\n",
    "            label = onehot.to(self.device)\n",
    "            self.all_data.append([self.transform(img).to(self.device),label,concept])\n",
    "            \n",
    "    def __len__(self):\n",
    "        return len(self.data)\n",
    "    \n",
    "    def __getitem__(self,idx):\n",
    "        return self.all_data[idx]\n",
    "    \n",
    "    def make_concepts_mnist(self,label):\n",
    "        if label == 0:\n",
    "            hard_label = torch.tensor([1,0,0,0,0,0,0,0,0,0]+[1,0])\n",
    "        elif label == 1:\n",
    "            hard_label = torch.tensor([0,1,0,0,0,0,0,0,0,0]+[0,1])\n",
    "        elif label == 2:\n",
    "            hard_label = torch.tensor([0,0,1,0,0,0,0,0,0,0]+[1,1])\n",
    "        elif label == 3:\n",
    "            hard_label = torch.tensor([0,0,0,1,0,0,0,0,0,0]+[1,0])\n",
    "        elif label == 4:\n",
    "            hard_label = torch.tensor([0,0,0,0,1,0,0,0,0,0]+[0,1])\n",
    "        elif label == 5:\n",
    "            hard_label = torch.tensor([0,0,0,0,0,1,0,0,0,0]+[1,1])\n",
    "        elif label == 6:\n",
    "            hard_label = torch.tensor([0,0,0,0,0,0,1,0,0,0]+[1,0])\n",
    "        elif label == 7:\n",
    "            hard_label = torch.tensor([0,0,0,0,0,0,0,1,0,0]+[0,1])\n",
    "        elif label == 8:\n",
    "            hard_label = torch.tensor([0,0,0,0,0,0,0,0,1,0]+[1,0])\n",
    "        elif label == 9:\n",
    "            hard_label = torch.tensor([0,0,0,0,0,0,0,0,0,1]+[1,0])\n",
    "    \n",
    "        # pdb.set_trace()\n",
    "    \n",
    "        # hard_label = torch.zeros((self.num_classes,))\n",
    "        # hard_label[label] = 1\n",
    "        hard_label = hard_label.float().to(self.device)\n",
    "        return hard_label\n",
    "\n",
    "\n",
    "def load_mnist_dataloader(split,bsz):\n",
    "\tdataset = MNISTDatasetWithConcepts(split = split, num_classes = 10, transform=ToTensor())\n",
    "\tdataloader = DataLoader(dataset, batch_size=bsz, shuffle=True)\n",
    "\treturn dataloader\n"
   ]
  },
  {
   "cell_type": "code",
   "execution_count": 19,
   "id": "e44ead40-74c1-46f2-bcbc-f6b421380245",
   "metadata": {},
   "outputs": [
    {
     "name": "stdout",
     "output_type": "stream",
     "text": [
      "Downloading http://yann.lecun.com/exdb/mnist/train-images-idx3-ubyte.gz\n",
      "Downloading http://yann.lecun.com/exdb/mnist/train-images-idx3-ubyte.gz to ./synthetic_datasets/MNIST/raw/train-images-idx3-ubyte.gz\n"
     ]
    },
    {
     "name": "stderr",
     "output_type": "stream",
     "text": [
      "100%|██████████| 9912422/9912422 [00:01<00:00, 6564655.78it/s] \n"
     ]
    },
    {
     "name": "stdout",
     "output_type": "stream",
     "text": [
      "Extracting ./synthetic_datasets/MNIST/raw/train-images-idx3-ubyte.gz to ./synthetic_datasets/MNIST/raw\n",
      "\n",
      "Downloading http://yann.lecun.com/exdb/mnist/train-labels-idx1-ubyte.gz\n",
      "Downloading http://yann.lecun.com/exdb/mnist/train-labels-idx1-ubyte.gz to ./synthetic_datasets/MNIST/raw/train-labels-idx1-ubyte.gz\n"
     ]
    },
    {
     "name": "stderr",
     "output_type": "stream",
     "text": [
      "100%|██████████| 28881/28881 [00:00<00:00, 1769721.89it/s]\n"
     ]
    },
    {
     "name": "stdout",
     "output_type": "stream",
     "text": [
      "Extracting ./synthetic_datasets/MNIST/raw/train-labels-idx1-ubyte.gz to ./synthetic_datasets/MNIST/raw\n",
      "\n",
      "Downloading http://yann.lecun.com/exdb/mnist/t10k-images-idx3-ubyte.gz\n",
      "Downloading http://yann.lecun.com/exdb/mnist/t10k-images-idx3-ubyte.gz to ./synthetic_datasets/MNIST/raw/t10k-images-idx3-ubyte.gz\n"
     ]
    },
    {
     "name": "stderr",
     "output_type": "stream",
     "text": [
      "100%|██████████| 1648877/1648877 [00:00<00:00, 2010823.43it/s]\n"
     ]
    },
    {
     "name": "stdout",
     "output_type": "stream",
     "text": [
      "Extracting ./synthetic_datasets/MNIST/raw/t10k-images-idx3-ubyte.gz to ./synthetic_datasets/MNIST/raw\n",
      "\n",
      "Downloading http://yann.lecun.com/exdb/mnist/t10k-labels-idx1-ubyte.gz\n",
      "Downloading http://yann.lecun.com/exdb/mnist/t10k-labels-idx1-ubyte.gz to ./synthetic_datasets/MNIST/raw/t10k-labels-idx1-ubyte.gz\n"
     ]
    },
    {
     "name": "stderr",
     "output_type": "stream",
     "text": [
      "100%|██████████| 4542/4542 [00:00<00:00, 6055476.40it/s]\n"
     ]
    },
    {
     "name": "stdout",
     "output_type": "stream",
     "text": [
      "Extracting ./synthetic_datasets/MNIST/raw/t10k-labels-idx1-ubyte.gz to ./synthetic_datasets/MNIST/raw\n",
      "\n"
     ]
    }
   ],
   "source": [
    "train_loader = load_mnist_dataloader(split = \"train\",bsz=64)\n",
    "test_loader = load_mnist_dataloader(split = \"test\",bsz=64)"
   ]
  },
  {
   "cell_type": "markdown",
   "id": "a97bd1af-7b89-42db-b15c-c88465ea5b1c",
   "metadata": {},
   "source": [
    "# Models"
   ]
  },
  {
   "cell_type": "code",
   "execution_count": 20,
   "id": "38903783-c377-4b1d-8a46-623b67d2e998",
   "metadata": {},
   "outputs": [],
   "source": [
    "import torch\n",
    "import torch.nn as nn\n",
    "import torch.nn.functional as F\n",
    "\n",
    "class g(nn.Module):\n",
    "    \"\"\"The network g consists of 2 convolutional\n",
    "    layers with 32 channels each, along with a maxpool\n",
    "    layer in between followed by a fully connected\n",
    "    layer.\"\"\"\n",
    "\n",
    "    def __init__(self):\n",
    "        super(g, self).__init__()\n",
    "        self.conv1 = nn.Conv2d(1, 32, 3, 1)\n",
    "        self.conv2 = nn.Conv2d(32, 32, 3, 1)\n",
    "        self.fc1 = nn.Linear(800, 128)\n",
    "        self.fc2 = nn.Linear(128, 14)\n",
    "\n",
    "    def forward(self, x):\n",
    "        x = self.conv1(x)\n",
    "        x = F.relu(x)\n",
    "        x = F.max_pool2d(x, 2)\n",
    "        x = self.conv2(x)\n",
    "        x = F.relu(x)\n",
    "        x = F.max_pool2d(x, 2)\n",
    "        x = torch.flatten(x, 1)\n",
    "        x = self.fc1(x)\n",
    "        x = F.relu(x)\n",
    "        x = self.fc2(x)\n",
    "        non_overlapping, overlapping1, overlapping2 = x[:,:10], x[:,10:12], x[:,12:]\n",
    "        return non_overlapping, overlapping1, overlapping2\n",
    "\n",
    "class f(nn.Module):\n",
    "    def __init__(self) -> None:\n",
    "        super(f, self).__init__()\n",
    "        self.fc1 = nn.Linear(14, 32)\n",
    "        self.fc2 = nn.Linear(32, 10)\n",
    "\n",
    "    def forward(self, x):\n",
    "        x = self.fc1(x)\n",
    "        x = F.relu(x)\n",
    "        x = self.fc2(x)\n",
    "        return x\n",
    "\n",
    "def split_concepts(concepts):\n",
    "    return concepts[:,:10], concepts[:,10:]"
   ]
  },
  {
   "cell_type": "code",
   "execution_count": 21,
   "id": "c36e2c81-1add-457a-94f2-b855d03637dd",
   "metadata": {},
   "outputs": [],
   "source": [
    "class Sequential(nn.Module):\n",
    "  def __init__(self):\n",
    "    super(Sequential, self).__init__()\n",
    "    self.g_model = g().to(device)\n",
    "    self.f_model = f().to(device)\n",
    "\n",
    "    # Defining the training parameters for the concepts model g\n",
    "    self.g_optimizer = torch.optim.Adam(self.g_model.parameters(), lr=1e-4)\n",
    "    self.g_criterion = nn.CrossEntropyLoss()\n",
    "\n",
    "    # Defining the training parameters for the prediction model f\n",
    "    self.learned_g = False\n",
    "    self.f_optimizer = torch.optim.Adam(self.f_model.parameters(), lr=1e-4)\n",
    "    self.f_criterion = nn.CrossEntropyLoss()\n",
    "    self.name = 'sequential'\n",
    "\n",
    "  def split_concepts(self, concepts):\n",
    "    return concepts[:,:10], concepts[:,10:]\n",
    "\n",
    "  def train_g(self, train_loader, epochs):\n",
    "      self.g_model.train()\n",
    "      for epoch in range(epochs):\n",
    "          for images, labels, concepts in train_loader:\n",
    "              images, labels, concepts = images.to(device), labels.to(device), concepts.to(device)\n",
    "              y_true_non_overlapping, y_true_overlapping = self.split_concepts(concepts)\n",
    "\n",
    "              self.g_optimizer.zero_grad()\n",
    "              non_overlapping, overlapping1, overlapping2 = self.g_model(images)\n",
    "\n",
    "              # Calculate the loss for non_overlaaping concepts\n",
    "              loss_non_overlapping = self.g_criterion(non_overlapping, y_true_non_overlapping.argmax(dim=1))\n",
    "\n",
    "              # Calculate the loss for overlapping concepts\n",
    "              loss_overlapping1 = self.g_criterion(overlapping1, y_true_overlapping[:,0].long())\n",
    "              loss_overlapping2 = self.g_criterion(overlapping2, y_true_overlapping[:,1].long())\n",
    "\n",
    "              # Calculate the total loss\n",
    "              loss = loss_non_overlapping + loss_overlapping1 + loss_overlapping2\n",
    "              loss.backward()\n",
    "              self.g_optimizer.step()\n",
    "          print(f\"Epoch: {epoch+1}, Loss: {loss.item():.3f}\")\n",
    "      self.learned_g = True\n",
    "\n",
    "  def calc_acc_non_overlapping(self, test_loader):\n",
    "      self.g_model.eval()\n",
    "      accuracies = []\n",
    "      for images, labels, concepts in test_loader:\n",
    "          images, labels, concepts = images.to(device), labels.to(device), concepts.to(device)\n",
    "          y_true_non_overlapping, _ = split_concepts(concepts)\n",
    "          non_overlapping, _, _ = self.g_model(images)\n",
    "          y_pred_non_overlapping = non_overlapping.argmax(dim=1)\n",
    "          acc =  (y_pred_non_overlapping == y_true_non_overlapping.argmax(dim=1)).float().mean().item()\n",
    "          accuracies.append(acc)\n",
    "      return sum(accuracies)/len(accuracies)\n",
    "\n",
    "  def calc_acc_overlapping(self, test_loader):\n",
    "      self.g_model.eval()\n",
    "      accuracies = []\n",
    "      for images, labels, concepts in test_loader:\n",
    "          images, labels, concepts = images.to(device), labels.to(device), concepts.to(device)\n",
    "          _, y_true_overlapping = split_concepts(concepts)\n",
    "          _, overlapping1, overlapping2 = self.g_model(images)\n",
    "          y_pred_overlapping1 = overlapping1.argmax(dim=1)\n",
    "          y_pred_overlapping2 = overlapping2.argmax(dim=1)\n",
    "          acc = ((y_pred_overlapping1 == y_true_overlapping[:,0]) & (y_pred_overlapping2 == y_true_overlapping[:,1])).float().mean().item()\n",
    "          accuracies.append(acc)\n",
    "      return sum(accuracies)/len(accuracies)\n",
    "\n",
    "  def calc_acc_g(self, test_loader):\n",
    "      self.g_model.eval()\n",
    "      accuracies = []\n",
    "      for images, labels, concepts in test_loader:\n",
    "          images, labels, concepts = images.to(device), labels.to(device), concepts.to(device)\n",
    "          y_true_non_overlapping, y_true_overlapping = split_concepts(concepts)\n",
    "          non_overlapping, overlapping1, overlapping2 = self.g_model(images)\n",
    "          y_pred_non_overlapping = non_overlapping.argmax(dim=1)\n",
    "          y_pred_overlapping1 = overlapping1.argmax(dim=1)\n",
    "          y_pred_overlapping2 = overlapping2.argmax(dim=1)\n",
    "          acc = ((y_pred_non_overlapping == y_true_non_overlapping.argmax(dim=1)) & (y_pred_overlapping1 == y_true_overlapping[:,0]) & (y_pred_overlapping2 == y_true_overlapping[:,1])).float().mean().item()\n",
    "          accuracies.append(acc)\n",
    "      return sum(accuracies)/len(accuracies)\n",
    "\n",
    "  def train_f(self, train_loader, epochs):\n",
    "      if not self.learned_g:\n",
    "        raise \"You have to train g before training f in sequential training\"\n",
    "      self.f_model.train()\n",
    "      for epoch in range(epochs):\n",
    "          for images, labels, _ in train_loader:\n",
    "              images, labels = images.to(device), labels.to(device)\n",
    "              self.f_optimizer.zero_grad()\n",
    "\n",
    "              non_overlapping, overlapping1, overlapping2 = self.g_model(images)\n",
    "              # Concatenate the concepts\n",
    "              overlapping = torch.cat([non_overlapping, overlapping1, overlapping2], dim=1)\n",
    "              y_pred = self.f_model(overlapping)\n",
    "              loss = self.f_criterion(y_pred, labels.argmax(dim=1))\n",
    "              loss.backward()\n",
    "              self.f_optimizer.step()\n",
    "          print(f\"Epoch: {epoch+1}, Loss: {loss.item():.3f}\")\n",
    "\n",
    "  def calc_acc_prediction(self, test_loader, delta=None):\n",
    "      accuracies = []\n",
    "      for images, labels, _ in test_loader:\n",
    "          images, labels = images.to(device), labels.to(device)\n",
    "          if delta is not None:\n",
    "            y_pred = self.forward(images + delta[:images.shape[0]]).argmax(dim=1)\n",
    "          else:\n",
    "            y_pred = self.forward(images).argmax(dim=1)\n",
    "          acc = (y_pred == labels.argmax(dim=1)).float().mean().item()\n",
    "          accuracies.append(acc)\n",
    "      return sum(accuracies)/len(accuracies)\n",
    "\n",
    "  def forward(self, x):\n",
    "    non_overlapping, overlapping1, overlapping2 = self.g_model(x)\n",
    "    # Concatenate the concepts\n",
    "    overlapping = torch.cat([non_overlapping, overlapping1, overlapping2], dim=1)\n",
    "    return self.f_model(overlapping)\n",
    "\n",
    "  def save_g(self):\n",
    "    torch.save(self.g_model.state_dict(), \"g_model1.pth\")\n",
    "\n",
    "  def load_g(self, path):\n",
    "    self.g_model.load_state_dict(torch.load(path))\n",
    "    self.learned_g = True\n",
    "\n",
    "  def save_f(self):\n",
    "    torch.save(self.f_model.state_dict(), \"f_model1.pth\")\n",
    "\n",
    "  def load_f(self, path):\n",
    "    self.f_model.load_state_dict(torch.load(path))"
   ]
  },
  {
   "cell_type": "code",
   "execution_count": 22,
   "id": "444ed9df-312f-458a-8747-2303acd90030",
   "metadata": {},
   "outputs": [],
   "source": [
    "import torch\n",
    "import torch.nn as nn\n",
    "import torch.nn.functional as F\n",
    "\n",
    "class Joint(nn.Module):\n",
    "    def __init__(self):\n",
    "        super(Joint, self).__init__()\n",
    "        self.g_model = g().to(device)\n",
    "        self.f_model = f().to(device)\n",
    "\n",
    "        self.name = 'joint'\n",
    "\n",
    "    def forward_training(self, x):\n",
    "        non_overlapping, overlapping1, overlapping2 = self.g_model(x)\n",
    "        overlapping = torch.cat([non_overlapping, overlapping1, overlapping2], dim=1)\n",
    "        y_pred = self.f_model(overlapping)\n",
    "        return y_pred, non_overlapping, overlapping1, overlapping2\n",
    "\n",
    "    def forward(self, x):\n",
    "        non_overlapping, overlapping1, overlapping2 = self.g_model(x)\n",
    "        overlapping = torch.cat([non_overlapping, overlapping1, overlapping2], dim=1)\n",
    "        y_pred = self.f_model(overlapping)\n",
    "        return y_pred"
   ]
  },
  {
   "cell_type": "code",
   "execution_count": 23,
   "id": "056b79b1-d3d8-406c-8bf2-ef3beca7be44",
   "metadata": {},
   "outputs": [],
   "source": [
    "import torch\n",
    "import torch.nn as nn\n",
    "import torch.nn.functional as F\n",
    "\n",
    "class CNN(nn.Module):\n",
    "  def __init__(self):\n",
    "      super(CNN, self).__init__()\n",
    "      self.conv1 = nn.Conv2d(1, 32, 3, 1)\n",
    "      self.conv2 = nn.Conv2d(32, 32, 3, 1)\n",
    "      self.fc1 = nn.Linear(800, 128)\n",
    "      self.fc2 = nn.Linear(128, 10)\n",
    "\n",
    "      self.name = 'CNN'\n",
    "\n",
    "  def forward(self, x):\n",
    "    x = self.conv1(x)\n",
    "    x = F.relu(x)\n",
    "    x = F.max_pool2d(x, 2)\n",
    "    x = self.conv2(x)\n",
    "    x = F.relu(x)\n",
    "    x = F.max_pool2d(x, 2)\n",
    "    x = torch.flatten(x, 1)\n",
    "    x = self.fc1(x)\n",
    "    x = F.relu(x)\n",
    "    x = self.fc2(x)\n",
    "    return x\n",
    "\n"
   ]
  },
  {
   "cell_type": "markdown",
   "id": "025bbe67-70b7-414e-8352-879aa6c6d33b",
   "metadata": {},
   "source": [
    "# Training the models"
   ]
  },
  {
   "cell_type": "code",
   "execution_count": 16,
   "id": "82cd3fe8-e113-4079-a45f-d0d780f1804e",
   "metadata": {},
   "outputs": [],
   "source": [
    "models_path = r\"../Models\""
   ]
  },
  {
   "cell_type": "markdown",
   "id": "7238fefd-8236-474f-82c6-14822d7b4260",
   "metadata": {},
   "source": [
    "## Training the sequential model"
   ]
  },
  {
   "cell_type": "code",
   "execution_count": null,
   "id": "149e4911-6db2-463e-97db-f8ea06a6f709",
   "metadata": {},
   "outputs": [],
   "source": [
    "sequential = Sequential()\n",
    "sequential.train_g(train_loader, 20)\n",
    "sequential.train_f(train_loader, 20)\n",
    "torch.save(sequential.state_dict(), f\"{models_path}/Sequential.pth\")"
   ]
  },
  {
   "cell_type": "code",
   "execution_count": 24,
   "id": "8462d93f-9af4-489c-ab8c-f3fa78147f3f",
   "metadata": {},
   "outputs": [
    {
     "data": {
      "text/plain": [
       "0.9877587579617835"
      ]
     },
     "execution_count": 24,
     "metadata": {},
     "output_type": "execute_result"
    }
   ],
   "source": [
    "sequential = Sequential()\n",
    "sequential.load_state_dict(torch.load(f\"{models_path}/Sequential.pth\"))\n",
    "sequential.calc_acc_prediction(test_loader)"
   ]
  },
  {
   "cell_type": "markdown",
   "id": "5a3e16de-3b19-48c8-a70a-79c024854d90",
   "metadata": {},
   "source": [
    "## Training the joint model"
   ]
  },
  {
   "cell_type": "code",
   "execution_count": 47,
   "id": "7754f765-ebc9-4864-83b8-25609388f04e",
   "metadata": {},
   "outputs": [],
   "source": [
    "pred_loss_weight, concepts_loss_weight = 0.5, 1\n",
    "\n",
    "def calc_loss(y_pred, labels, non_overlapping, overlapping1, overlapping2, y_true_non_overlapping, y_true_overlapping, criterion, pred_loss_weight, concepts_loss_weight):\n",
    "\n",
    "    # Calculate the loss for non_overlaaping concepts\n",
    "    loss_non_overlapping = criterion(non_overlapping, y_true_non_overlapping.argmax(dim=1))\n",
    "    # Calculate the loss for overlapping concepts\n",
    "    loss_overlapping1 = criterion(overlapping1, y_true_overlapping[:,0].long())\n",
    "    loss_overlapping2 = criterion(overlapping2, y_true_overlapping[:,1].long())\n",
    "    # Calculate the loss for concepts\n",
    "    concept_loss = loss_non_overlapping + loss_overlapping1 + loss_overlapping2\n",
    "\n",
    "    # Calculate the loss for prediction\n",
    "    pred_loss = criterion(y_pred, labels.argmax(dim=1))\n",
    "\n",
    "    loss = pred_loss_weight * pred_loss + concepts_loss_weight * concept_loss\n",
    "    return loss\n",
    "\n",
    "def train_joint(model, train_loader, epochs, optimizer, criterion):\n",
    "    model.train()\n",
    "    for epoch in range(epochs):\n",
    "        for images, labels, concepts in train_loader:\n",
    "            images, labels, concepts = images.to(device), labels.to(device), concepts.to(device)\n",
    "            optimizer.zero_grad()\n",
    "            y_true_non_overlapping, y_true_overlapping = split_concepts(concepts)\n",
    "            y_pred, non_overlapping, overlapping1, overlapping2 = model.forward_training(images)\n",
    "            loss = calc_loss(y_pred, labels, non_overlapping, overlapping1, overlapping2, y_true_non_overlapping, y_true_overlapping, criterion, 1, 1)\n",
    "            loss.backward()\n",
    "            optimizer.step()\n",
    "        print(f\"Epoch: {epoch+1}, Loss: {loss.item():.3f}\")\n",
    "\n",
    "\n",
    "joint_model = Joint().to(device)\n",
    "optimizer = torch.optim.Adam(joint_model.parameters(), lr=1e-4)\n",
    "criterion = nn.CrossEntropyLoss()\n",
    "epochs = 20\n",
    "train_joint(joint_model, train_loader, epochs, optimizer, criterion)\n",
    "torch.save(joint_model.state_dict(), f\"{models_path}/joint_model.pth\")"
   ]
  },
  {
   "cell_type": "code",
   "execution_count": 26,
   "id": "cd5b4f60-e4bb-4111-88c2-9b0970a85e7c",
   "metadata": {},
   "outputs": [
    {
     "data": {
      "text/plain": [
       "0.9872611464968153"
      ]
     },
     "execution_count": 26,
     "metadata": {},
     "output_type": "execute_result"
    }
   ],
   "source": [
    "def test_joint(model, test_loader):\n",
    "    model.eval()\n",
    "    accuracies = []\n",
    "    for images, labels, concepts in test_loader:\n",
    "        images, labels, concepts = images.to(device), labels.to(device), concepts.to(device)\n",
    "        y_pred, _, _, _ = model.forward_training(images)\n",
    "        acc = (y_pred.argmax(dim=1) == labels.argmax(dim=1)).float().mean().item()\n",
    "        accuracies.append(acc)\n",
    "    return sum(accuracies)/len(accuracies)\n",
    "    \n",
    "joint_model = Joint().to(device)\n",
    "joint_model.load_state_dict(torch.load(f\"{models_path}/joint_model.pth\"))\n",
    "test_joint(joint_model, test_loader)"
   ]
  },
  {
   "cell_type": "markdown",
   "id": "0163aee1-26db-426e-be2f-025fd4cc0c03",
   "metadata": {},
   "source": [
    "## Training the standard model"
   ]
  },
  {
   "cell_type": "code",
   "execution_count": 57,
   "id": "810bf81f-7630-4542-8302-cc1ab6264dd5",
   "metadata": {},
   "outputs": [],
   "source": [
    "cnn_model = CNN().to(device)\n",
    "criterion = nn.CrossEntropyLoss()\n",
    "optimizer = torch.optim.Adam(cnn_model.parameters(), lr=1e-4)\n",
    "epochs = 20\n",
    "\n",
    "def train_cnn(model, train_loader, epochs, optimizer, criterion):\n",
    "    model.train()\n",
    "    for epoch in range(epochs):\n",
    "        for images, labels, _ in train_loader:\n",
    "            images, labels = images.to(device), labels.to(device)\n",
    "            optimizer.zero_grad()\n",
    "\n",
    "            y_pred = model(images)\n",
    "            loss = criterion(y_pred, labels.argmax(dim=1))\n",
    "            loss.backward()\n",
    "            optimizer.step()\n",
    "        print(f\"Epoch: {epoch+1}, Loss: {loss.item():.3f}\")\n",
    "\n",
    "train_cnn(cnn_model, train_loader, epochs, optimizer, criterion)\n",
    "\n",
    "torch.save(cnn_model.state_dict(), f\"{models_path}/cnn1.pth\")"
   ]
  },
  {
   "cell_type": "code",
   "execution_count": 27,
   "id": "90ed4b64-84e8-4f75-87ba-08da3b2d2c99",
   "metadata": {},
   "outputs": [
    {
     "data": {
      "text/plain": [
       "0.9864649681528662"
      ]
     },
     "execution_count": 27,
     "metadata": {},
     "output_type": "execute_result"
    }
   ],
   "source": [
    "def test_cnn(model, test_loader):\n",
    "  model.eval()\n",
    "  accuracies = []\n",
    "  for images, labels, _ in test_loader:\n",
    "    images, labels = images.to(device), labels.to(device)\n",
    "    y_pred = model(images).argmax(dim=1)\n",
    "    acc = (y_pred == labels.argmax(dim=1)).float().mean().item()\n",
    "    accuracies.append(acc)\n",
    "  return sum(accuracies)/len(accuracies)\n",
    "\n",
    "\n",
    "cnn_model = CNN().to(device)\n",
    "cnn_model.load_state_dict(torch.load(f\"{models_path}/cnn1.pth\"))\n",
    "test_cnn(cnn_model, test_loader)"
   ]
  },
  {
   "cell_type": "markdown",
   "id": "c8f197c3-1f8d-4bbc-9a9a-cba971493bb2",
   "metadata": {},
   "source": [
    "# Attacking the models using PGD attack"
   ]
  },
  {
   "cell_type": "code",
   "execution_count": 28,
   "id": "e651e912-588a-4047-80a1-f63d39be6fda",
   "metadata": {
    "scrolled": true
   },
   "outputs": [
    {
     "name": "stdout",
     "output_type": "stream",
     "text": [
      "Collecting adversarial-robustness-toolbox\n",
      "  Using cached adversarial_robustness_toolbox-1.17.1-py3-none-any.whl.metadata (11 kB)\n",
      "Requirement already satisfied: numpy>=1.18.0 in /root/miniconda3/envs/py3.10/lib/python3.10/site-packages (from adversarial-robustness-toolbox) (1.26.3)\n",
      "Requirement already satisfied: scipy>=1.4.1 in /root/miniconda3/envs/py3.10/lib/python3.10/site-packages (from adversarial-robustness-toolbox) (1.12.0)\n",
      "Requirement already satisfied: scikit-learn>=0.22.2 in /root/miniconda3/envs/py3.10/lib/python3.10/site-packages (from adversarial-robustness-toolbox) (1.4.1.post1)\n",
      "Requirement already satisfied: six in /root/miniconda3/envs/py3.10/lib/python3.10/site-packages (from adversarial-robustness-toolbox) (1.16.0)\n",
      "Requirement already satisfied: setuptools in /root/miniconda3/envs/py3.10/lib/python3.10/site-packages (from adversarial-robustness-toolbox) (68.2.2)\n",
      "Requirement already satisfied: tqdm in /root/miniconda3/envs/py3.10/lib/python3.10/site-packages (from adversarial-robustness-toolbox) (4.66.2)\n",
      "Requirement already satisfied: joblib>=1.2.0 in /root/miniconda3/envs/py3.10/lib/python3.10/site-packages (from scikit-learn>=0.22.2->adversarial-robustness-toolbox) (1.3.2)\n",
      "Requirement already satisfied: threadpoolctl>=2.0.0 in /root/miniconda3/envs/py3.10/lib/python3.10/site-packages (from scikit-learn>=0.22.2->adversarial-robustness-toolbox) (3.3.0)\n",
      "Using cached adversarial_robustness_toolbox-1.17.1-py3-none-any.whl (1.7 MB)\n",
      "Installing collected packages: adversarial-robustness-toolbox\n",
      "Successfully installed adversarial-robustness-toolbox-1.17.1\n",
      "\u001b[33mWARNING: Running pip as the 'root' user can result in broken permissions and conflicting behaviour with the system package manager. It is recommended to use a virtual environment instead: https://pip.pypa.io/warnings/venv\u001b[0m\u001b[33m\n",
      "\u001b[0m\n",
      "\u001b[1m[\u001b[0m\u001b[34;49mnotice\u001b[0m\u001b[1;39;49m]\u001b[0m\u001b[39;49m A new release of pip is available: \u001b[0m\u001b[31;49m23.3.2\u001b[0m\u001b[39;49m -> \u001b[0m\u001b[32;49m24.0\u001b[0m\n",
      "\u001b[1m[\u001b[0m\u001b[34;49mnotice\u001b[0m\u001b[1;39;49m]\u001b[0m\u001b[39;49m To update, run: \u001b[0m\u001b[32;49mpip install --upgrade pip\u001b[0m\n"
     ]
    }
   ],
   "source": [
    "!pip install adversarial-robustness-toolbox"
   ]
  },
  {
   "cell_type": "code",
   "execution_count": 29,
   "id": "e8735e75-d1e6-4b02-88af-2deee8905681",
   "metadata": {},
   "outputs": [],
   "source": [
    "import numpy as np\n",
    "from art.attacks.evasion import ProjectedGradientDescent\n",
    "from art.estimators.classification import PyTorchClassifier\n",
    "import matplotlib.pyplot as plt\n",
    "\n",
    "def attack(model, test_loader, attack_config):\n",
    "    device = torch.device(\"cuda\" if torch.cuda.is_available() else \"cpu\")\n",
    "    model.to(device)\n",
    "    \n",
    "    # Prepare test dataset\n",
    "    test_data = []\n",
    "    test_labels = []\n",
    "    for images, labels, _ in test_loader:\n",
    "        test_data.append(images)\n",
    "        test_labels.append(labels.argmax(dim=1))\n",
    "    \n",
    "    test_data = torch.cat(test_data).cpu().numpy()\n",
    "    test_labels = torch.cat(test_labels).cpu().numpy()\n",
    "    \n",
    "    # Define ART PyTorchClassifier\n",
    "    classifier = PyTorchClassifier(\n",
    "        model=model,\n",
    "        clip_values=(0, 1),\n",
    "        loss=CrossEntropyLoss(),\n",
    "        optimizer=torch.optim.Adam(model.parameters()),\n",
    "        input_shape=(1, 28, 28),\n",
    "        nb_classes=10,\n",
    "    )\n",
    "    \n",
    "    # Instantiate the PGD attack\n",
    "    attack = ProjectedGradientDescent(\n",
    "        estimator=classifier,\n",
    "        norm=np.inf,\n",
    "        eps=attack_config['eps'],\n",
    "        eps_step=attack_config['eps_step'],\n",
    "        max_iter=attack_config['max_iter'],\n",
    "        targeted=False\n",
    "    )\n",
    "    \n",
    "    # Generate adversarial test examples\n",
    "    adv_test_data = attack.generate(x=test_data, y=test_labels)\n",
    "    \n",
    "    # Evaluate the model on adversarial examples\n",
    "    predictions = classifier.predict(adv_test_data)\n",
    "    accuracy = np.sum(np.argmax(predictions, axis=1) == test_labels) / len(test_labels)\n",
    "    \n",
    "    print(f\"Accuracy on adversarial examples: {accuracy*100:.2f}%\")\n",
    "    return accuracy*100\n",
    "\n",
    "\n",
    "\n",
    "def visualize_attack(model, test_loader, attack_config):\n",
    "    device = torch.device(\"cuda\" if torch.cuda.is_available() else \"cpu\")\n",
    "    model.to(device)\n",
    "\n",
    "    # Convert a single batch to numpy for demonstration\n",
    "    for images, labels, _ in test_loader:\n",
    "        test_data = images[:1].to(device)  # Taking the first image for simplicity\n",
    "        test_labels = labels[:1].argmax(dim=1).to(device)\n",
    "        break\n",
    "\n",
    "    # Convert test_data back to CPU for ART processing\n",
    "    test_data_np = test_data.cpu().numpy()\n",
    "    \n",
    "    # Define ART PyTorchClassifier\n",
    "    classifier = PyTorchClassifier(\n",
    "        model=model,\n",
    "        clip_values=(0, 1),\n",
    "        loss=CrossEntropyLoss(),\n",
    "        optimizer=torch.optim.Adam(model.parameters()),\n",
    "        input_shape=(1, 28, 28),\n",
    "        nb_classes=10,\n",
    "    )\n",
    "    \n",
    "    # Instantiate the PGD attack\n",
    "    attack = ProjectedGradientDescent(\n",
    "        estimator=classifier,\n",
    "        norm=np.inf,\n",
    "        eps=attack_config['eps'],\n",
    "        eps_step=attack_config['eps_step'],\n",
    "        max_iter=attack_config['max_iter'],\n",
    "        targeted=False\n",
    "    )\n",
    "    # Re-define ART classifier (assuming sequential model and classifier setup is done)\n",
    "    # Generate adversarial example for the single image\n",
    "    adv_test_data = attack.generate(x=test_data_np)\n",
    "\n",
    "    # Convert adversarial data back to tensor for visualization\n",
    "    adv_test_data_tensor = torch.tensor(adv_test_data).to(device)\n",
    "\n",
    "    # Calculate delta\n",
    "    delta = adv_test_data_tensor - test_data\n",
    "\n",
    "    # Prepare for visualization\n",
    "    test_data_vis = test_data.cpu().squeeze().numpy()\n",
    "    delta_vis = delta.cpu().squeeze().numpy()\n",
    "    adv_test_data_vis = adv_test_data_tensor.cpu().squeeze().numpy()\n",
    "\n",
    "    # Plotting\n",
    "    fig, axs = plt.subplots(1, 3, figsize=(15, 5))\n",
    "    axs[0].imshow(test_data_vis, cmap='gray')\n",
    "    axs[0].set_title('Original Image')\n",
    "    axs[0].axis('off')\n",
    "\n",
    "    axs[1].imshow(delta_vis, cmap='gray')\n",
    "    axs[1].set_title('Delta')\n",
    "    axs[1].axis('off')\n",
    "\n",
    "    axs[2].imshow(adv_test_data_vis, cmap='gray')\n",
    "    axs[2].set_title('Adversarial Image')\n",
    "    axs[2].axis('off')\n",
    "\n",
    "    plt.show()\n",
    "\n",
    "def attack_and_visualize(model, test_loader, attack_config):\n",
    "    device = torch.device(\"cuda\" if torch.cuda.is_available() else \"cpu\")\n",
    "    model.to(device)\n",
    "\n",
    "    # Prepare test dataset for a single example\n",
    "    for images, labels, _ in test_loader:\n",
    "        test_data = images[:1].to(device)\n",
    "        test_labels = labels[:1].to(device)\n",
    "        break\n",
    "\n",
    "    test_data_np = test_data.cpu().numpy()\n",
    "\n",
    "    classifier = PyTorchClassifier(\n",
    "        model=model,\n",
    "        clip_values=(0, 1),\n",
    "        loss=CrossEntropyLoss(),\n",
    "        optimizer=torch.optim.Adam(model.parameters()),\n",
    "        input_shape=(1, 28, 28),\n",
    "        nb_classes=10,\n",
    "    )\n",
    "\n",
    "    attack = ProjectedGradientDescent(\n",
    "        estimator=classifier,\n",
    "        norm=np.inf,\n",
    "        eps=attack_config['eps'],\n",
    "        eps_step=attack_config['eps_step'],\n",
    "        max_iter=attack_config['max_iter'],\n",
    "        targeted=False\n",
    "    )\n",
    "\n",
    "    adv_test_data = attack.generate(x=test_data_np)\n",
    "    adv_test_data_tensor = torch.tensor(adv_test_data).to(device)\n",
    "\n",
    "    delta = adv_test_data_tensor - test_data\n",
    "\n",
    "    # Predictions\n",
    "    model.eval()\n",
    "    with torch.no_grad():\n",
    "        original_pred = model(test_data).argmax(dim=1)\n",
    "        adversarial_pred = model(adv_test_data_tensor).argmax(dim=1)\n",
    "\n",
    "    # Visualization\n",
    "    fig, axs = plt.subplots(1, 3, figsize=(15, 5))\n",
    "    axs[0].imshow(test_data.cpu().squeeze().numpy(), cmap='gray')\n",
    "    axs[0].set_title(f'Original\\nPred: {original_pred.item()}')\n",
    "    axs[0].axis('off')\n",
    "\n",
    "    axs[1].imshow(delta.cpu().squeeze().numpy(), cmap='gray')\n",
    "    axs[1].set_title('Delta')\n",
    "    axs[1].axis('off')\n",
    "\n",
    "    axs[2].imshow(adv_test_data_tensor.cpu().squeeze().numpy(), cmap='gray')\n",
    "    axs[2].set_title(f'Adversarial\\nPred: {adversarial_pred.item()}')\n",
    "    axs[2].axis('off')\n",
    "\n",
    "    plt.show()"
   ]
  },
  {
   "cell_type": "code",
   "execution_count": null,
   "id": "549bfce9-a706-412b-b6eb-aa003aabf0e5",
   "metadata": {},
   "outputs": [],
   "source": [
    "attack_config = dict(\n",
    "    eps=0.1,\n",
    "    eps_step=0.01,\n",
    "    max_iter=20\n",
    ")"
   ]
  },
  {
   "cell_type": "markdown",
   "id": "1a05fb7b-343f-42c0-acde-b03862b11dd8",
   "metadata": {
    "jp-MarkdownHeadingCollapsed": true
   },
   "source": [
    "## Attacking the sequential model"
   ]
  },
  {
   "cell_type": "code",
   "execution_count": 50,
   "id": "e2832bed-d5ce-481d-944e-b72e5f9afe96",
   "metadata": {},
   "outputs": [
    {
     "data": {
      "application/vnd.jupyter.widget-view+json": {
       "model_id": "",
       "version_major": 2,
       "version_minor": 0
      },
      "text/plain": [
       "PGD - Batches:   0%|          | 0/313 [00:00<?, ?it/s]"
      ]
     },
     "metadata": {},
     "output_type": "display_data"
    },
    {
     "name": "stdout",
     "output_type": "stream",
     "text": [
      "Accuracy on adversarial examples: 71.39%\n"
     ]
    }
   ],
   "source": [
    "attack(sequential, test_loader, attack_config)"
   ]
  },
  {
   "cell_type": "code",
   "execution_count": 51,
   "id": "81f5b2b1-9351-4bb6-ba82-a0785cdc296e",
   "metadata": {},
   "outputs": [
    {
     "data": {
      "application/vnd.jupyter.widget-view+json": {
       "model_id": "",
       "version_major": 2,
       "version_minor": 0
      },
      "text/plain": [
       "PGD - Batches:   0%|          | 0/1 [00:00<?, ?it/s]"
      ]
     },
     "metadata": {},
     "output_type": "display_data"
    },
    {
     "data": {
      "image/png": "[encoded data removed]",
      "text/plain": [
       "<Figure size 1500x500 with 3 Axes>"
      ]
     },
     "metadata": {},
     "output_type": "display_data"
    }
   ],
   "source": [
    "attack_and_visualize(sequential, test_loader, attack_config)"
   ]
  },
  {
   "cell_type": "markdown",
   "id": "c7221edc-d8af-411a-8c57-e59c52761594",
   "metadata": {
    "jp-MarkdownHeadingCollapsed": true
   },
   "source": [
    "## Attacking the joint model"
   ]
  },
  {
   "cell_type": "code",
   "execution_count": 52,
   "id": "0125bf21-596a-4463-995d-c9b75cc632e4",
   "metadata": {},
   "outputs": [
    {
     "data": {
      "application/vnd.jupyter.widget-view+json": {
       "model_id": "",
       "version_major": 2,
       "version_minor": 0
      },
      "text/plain": [
       "PGD - Batches:   0%|          | 0/313 [00:00<?, ?it/s]"
      ]
     },
     "metadata": {},
     "output_type": "display_data"
    },
    {
     "name": "stdout",
     "output_type": "stream",
     "text": [
      "Accuracy on adversarial examples: 69.86%\n"
     ]
    }
   ],
   "source": [
    "attack(joint_model, test_loader, attack_config)"
   ]
  },
  {
   "cell_type": "code",
   "execution_count": 53,
   "id": "74adb1b9-a8e2-4cbe-aa6b-d01662fe7971",
   "metadata": {},
   "outputs": [
    {
     "data": {
      "application/vnd.jupyter.widget-view+json": {
       "model_id": "",
       "version_major": 2,
       "version_minor": 0
      },
      "text/plain": [
       "PGD - Batches:   0%|          | 0/1 [00:00<?, ?it/s]"
      ]
     },
     "metadata": {},
     "output_type": "display_data"
    },
    {
     "data": {
      "image/png": "[encoded data removed]",
      "text/plain": [
       "<Figure size 1500x500 with 3 Axes>"
      ]
     },
     "metadata": {},
     "output_type": "display_data"
    }
   ],
   "source": [
    "attack_and_visualize(joint_model, test_loader, attack_config)"
   ]
  },
  {
   "cell_type": "markdown",
   "id": "27125524-dd9e-4439-a56d-daf321152daf",
   "metadata": {
    "jp-MarkdownHeadingCollapsed": true
   },
   "source": [
    "## Attacking the standard model"
   ]
  },
  {
   "cell_type": "code",
   "execution_count": 59,
   "id": "b4ee7b0f-39bc-4e22-97b9-f69454c6a226",
   "metadata": {},
   "outputs": [
    {
     "data": {
      "application/vnd.jupyter.widget-view+json": {
       "model_id": "",
       "version_major": 2,
       "version_minor": 0
      },
      "text/plain": [
       "PGD - Batches:   0%|          | 0/313 [00:00<?, ?it/s]"
      ]
     },
     "metadata": {},
     "output_type": "display_data"
    },
    {
     "name": "stdout",
     "output_type": "stream",
     "text": [
      "Accuracy on adversarial examples: 71.36%\n"
     ]
    }
   ],
   "source": [
    "attack(cnn_model, test_loader, attack_config)"
   ]
  },
  {
   "cell_type": "code",
   "execution_count": 60,
   "id": "6982f675-7b09-4012-94b6-6c5a88cf0fa8",
   "metadata": {},
   "outputs": [
    {
     "data": {
      "application/vnd.jupyter.widget-view+json": {
       "model_id": "",
       "version_major": 2,
       "version_minor": 0
      },
      "text/plain": [
       "PGD - Batches:   0%|          | 0/1 [00:00<?, ?it/s]"
      ]
     },
     "metadata": {},
     "output_type": "display_data"
    },
    {
     "data": {
      "image/png": "[encoded data removed]",
      "text/plain": [
       "<Figure size 1500x500 with 3 Axes>"
      ]
     },
     "metadata": {},
     "output_type": "display_data"
    }
   ],
   "source": [
    "attack_and_visualize(cnn_model, test_loader, attack_config)"
   ]
  },
  {
   "cell_type": "markdown",
   "id": "0e1452a8-abd6-4150-8d3e-703d87ba0b7c",
   "metadata": {
    "jp-MarkdownHeadingCollapsed": true
   },
   "source": [
    "## Attacking with different values of eps"
   ]
  },
  {
   "cell_type": "code",
   "execution_count": 65,
   "id": "3e4b9b17-499d-49b9-83a3-fe5c8f4c35c3",
   "metadata": {},
   "outputs": [
    {
     "name": "stdout",
     "output_type": "stream",
     "text": [
      "sequential 0.05\n"
     ]
    },
    {
     "data": {
      "application/vnd.jupyter.widget-view+json": {
       "model_id": "",
       "version_major": 2,
       "version_minor": 0
      },
      "text/plain": [
       "PGD - Batches:   0%|          | 0/313 [00:00<?, ?it/s]"
      ]
     },
     "metadata": {},
     "output_type": "display_data"
    },
    {
     "name": "stdout",
     "output_type": "stream",
     "text": [
      "Accuracy on adversarial examples: 93.76%\n",
      "joint 0.05\n"
     ]
    },
    {
     "data": {
      "application/vnd.jupyter.widget-view+json": {
       "model_id": "",
       "version_major": 2,
       "version_minor": 0
      },
      "text/plain": [
       "PGD - Batches:   0%|          | 0/313 [00:00<?, ?it/s]"
      ]
     },
     "metadata": {},
     "output_type": "display_data"
    },
    {
     "name": "stdout",
     "output_type": "stream",
     "text": [
      "Accuracy on adversarial examples: 93.14%\n",
      "CNN 0.05\n"
     ]
    },
    {
     "data": {
      "application/vnd.jupyter.widget-view+json": {
       "model_id": "",
       "version_major": 2,
       "version_minor": 0
      },
      "text/plain": [
       "PGD - Batches:   0%|          | 0/313 [00:00<?, ?it/s]"
      ]
     },
     "metadata": {},
     "output_type": "display_data"
    },
    {
     "name": "stdout",
     "output_type": "stream",
     "text": [
      "Accuracy on adversarial examples: 93.87%\n",
      "sequential 0.1\n"
     ]
    },
    {
     "data": {
      "application/vnd.jupyter.widget-view+json": {
       "model_id": "",
       "version_major": 2,
       "version_minor": 0
      },
      "text/plain": [
       "PGD - Batches:   0%|          | 0/313 [00:00<?, ?it/s]"
      ]
     },
     "metadata": {},
     "output_type": "display_data"
    },
    {
     "name": "stdout",
     "output_type": "stream",
     "text": [
      "Accuracy on adversarial examples: 71.39%\n",
      "joint 0.1\n"
     ]
    },
    {
     "data": {
      "application/vnd.jupyter.widget-view+json": {
       "model_id": "",
       "version_major": 2,
       "version_minor": 0
      },
      "text/plain": [
       "PGD - Batches:   0%|          | 0/313 [00:00<?, ?it/s]"
      ]
     },
     "metadata": {},
     "output_type": "display_data"
    },
    {
     "name": "stdout",
     "output_type": "stream",
     "text": [
      "Accuracy on adversarial examples: 69.86%\n",
      "CNN 0.1\n"
     ]
    },
    {
     "data": {
      "application/vnd.jupyter.widget-view+json": {
       "model_id": "",
       "version_major": 2,
       "version_minor": 0
      },
      "text/plain": [
       "PGD - Batches:   0%|          | 0/313 [00:00<?, ?it/s]"
      ]
     },
     "metadata": {},
     "output_type": "display_data"
    },
    {
     "name": "stdout",
     "output_type": "stream",
     "text": [
      "Accuracy on adversarial examples: 71.36%\n",
      "sequential 0.2\n"
     ]
    },
    {
     "data": {
      "application/vnd.jupyter.widget-view+json": {
       "model_id": "",
       "version_major": 2,
       "version_minor": 0
      },
      "text/plain": [
       "PGD - Batches:   0%|          | 0/313 [00:00<?, ?it/s]"
      ]
     },
     "metadata": {},
     "output_type": "display_data"
    },
    {
     "name": "stdout",
     "output_type": "stream",
     "text": [
      "Accuracy on adversarial examples: 10.21%\n",
      "joint 0.2\n"
     ]
    },
    {
     "data": {
      "application/vnd.jupyter.widget-view+json": {
       "model_id": "",
       "version_major": 2,
       "version_minor": 0
      },
      "text/plain": [
       "PGD - Batches:   0%|          | 0/313 [00:00<?, ?it/s]"
      ]
     },
     "metadata": {},
     "output_type": "display_data"
    },
    {
     "name": "stdout",
     "output_type": "stream",
     "text": [
      "Accuracy on adversarial examples: 8.06%\n",
      "CNN 0.2\n"
     ]
    },
    {
     "data": {
      "application/vnd.jupyter.widget-view+json": {
       "model_id": "",
       "version_major": 2,
       "version_minor": 0
      },
      "text/plain": [
       "PGD - Batches:   0%|          | 0/313 [00:00<?, ?it/s]"
      ]
     },
     "metadata": {},
     "output_type": "display_data"
    },
    {
     "name": "stdout",
     "output_type": "stream",
     "text": [
      "Accuracy on adversarial examples: 6.54%\n",
      "sequential 0.3\n"
     ]
    },
    {
     "data": {
      "application/vnd.jupyter.widget-view+json": {
       "model_id": "",
       "version_major": 2,
       "version_minor": 0
      },
      "text/plain": [
       "PGD - Batches:   0%|          | 0/313 [00:00<?, ?it/s]"
      ]
     },
     "metadata": {},
     "output_type": "display_data"
    },
    {
     "name": "stdout",
     "output_type": "stream",
     "text": [
      "Accuracy on adversarial examples: 10.21%\n",
      "joint 0.3\n"
     ]
    },
    {
     "data": {
      "application/vnd.jupyter.widget-view+json": {
       "model_id": "",
       "version_major": 2,
       "version_minor": 0
      },
      "text/plain": [
       "PGD - Batches:   0%|          | 0/313 [00:00<?, ?it/s]"
      ]
     },
     "metadata": {},
     "output_type": "display_data"
    },
    {
     "name": "stdout",
     "output_type": "stream",
     "text": [
      "Accuracy on adversarial examples: 8.07%\n",
      "CNN 0.3\n"
     ]
    },
    {
     "data": {
      "application/vnd.jupyter.widget-view+json": {
       "model_id": "",
       "version_major": 2,
       "version_minor": 0
      },
      "text/plain": [
       "PGD - Batches:   0%|          | 0/313 [00:00<?, ?it/s]"
      ]
     },
     "metadata": {},
     "output_type": "display_data"
    },
    {
     "name": "stdout",
     "output_type": "stream",
     "text": [
      "Accuracy on adversarial examples: 6.54%\n",
      "sequential 0.4\n"
     ]
    },
    {
     "data": {
      "application/vnd.jupyter.widget-view+json": {
       "model_id": "",
       "version_major": 2,
       "version_minor": 0
      },
      "text/plain": [
       "PGD - Batches:   0%|          | 0/313 [00:00<?, ?it/s]"
      ]
     },
     "metadata": {},
     "output_type": "display_data"
    },
    {
     "name": "stdout",
     "output_type": "stream",
     "text": [
      "Accuracy on adversarial examples: 10.21%\n",
      "joint 0.4\n"
     ]
    },
    {
     "data": {
      "application/vnd.jupyter.widget-view+json": {
       "model_id": "",
       "version_major": 2,
       "version_minor": 0
      },
      "text/plain": [
       "PGD - Batches:   0%|          | 0/313 [00:00<?, ?it/s]"
      ]
     },
     "metadata": {},
     "output_type": "display_data"
    },
    {
     "name": "stdout",
     "output_type": "stream",
     "text": [
      "Accuracy on adversarial examples: 8.06%\n",
      "CNN 0.4\n"
     ]
    },
    {
     "data": {
      "application/vnd.jupyter.widget-view+json": {
       "model_id": "",
       "version_major": 2,
       "version_minor": 0
      },
      "text/plain": [
       "PGD - Batches:   0%|          | 0/313 [00:00<?, ?it/s]"
      ]
     },
     "metadata": {},
     "output_type": "display_data"
    },
    {
     "name": "stdout",
     "output_type": "stream",
     "text": [
      "Accuracy on adversarial examples: 6.54%\n"
     ]
    },
    {
     "data": {
      "image/png": "[encoded data removed]",
      "text/plain": [
       "<Figure size 1000x600 with 1 Axes>"
      ]
     },
     "metadata": {},
     "output_type": "display_data"
    }
   ],
   "source": [
    "import matplotlib.pyplot as plt\n",
    "\n",
    "# Define a range of epsilon values\n",
    "eps_values = [0.05, 0.1, 0.2, 0.3, 0.4]\n",
    "\n",
    "# Initialize a dictionary to store accuracies for each model\n",
    "accuracies = {'sequential': [], 'joint_model': [], 'cnn_model': []}\n",
    "\n",
    "# Define your models here\n",
    "models = {'sequential': sequential, 'joint_model': joint_model, 'cnn_model': cnn_model}\n",
    "\n",
    "for eps in eps_values:\n",
    "    # Update attack_config with the current eps value\n",
    "    attack_config['eps'] = eps\n",
    "    for model_name, model in models.items():\n",
    "        # Execute the attack\n",
    "        print(model.name, eps)\n",
    "        accuracy = attack(model, test_loader, attack_config)\n",
    "        # Store the accuracy\n",
    "        accuracies[model_name].append(accuracy)\n",
    "\n",
    "# Plotting the results\n",
    "plt.figure(figsize=(10, 6))\n",
    "for model_name, acc_list in accuracies.items():\n",
    "    plt.plot(eps_values, acc_list, label=model_name)\n",
    "\n",
    "plt.xlabel('Epsilon Values')\n",
    "plt.ylabel('Accuracy After Attack')\n",
    "plt.title('Model Accuracy vs. Epsilon for PGD Attack')\n",
    "plt.legend()\n",
    "plt.grid(True)\n",
    "plt.show()"
   ]
  },
  {
   "cell_type": "code",
   "execution_count": 66,
   "id": "4d288fab-8280-4586-a8df-e444cda74bfa",
   "metadata": {},
   "outputs": [
    {
     "data": {
      "text/plain": [
       "{'sequential': [93.76,\n",
       "  71.39,\n",
       "  10.209999999999999,\n",
       "  10.209999999999999,\n",
       "  10.209999999999999],\n",
       " 'joint_model': [93.14, 69.86, 8.06, 8.07, 8.06],\n",
       " 'cnn_model': [93.87, 71.36, 6.54, 6.54, 6.54]}"
      ]
     },
     "execution_count": 66,
     "metadata": {},
     "output_type": "execute_result"
    }
   ],
   "source": [
    "accuracies"
   ]
  },
  {
   "cell_type": "markdown",
   "id": "5c6c5626-476e-498e-b565-0955fe3f48d4",
   "metadata": {},
   "source": [
    "# Adversarially training the models"
   ]
  },
  {
   "cell_type": "code",
   "execution_count": 30,
   "id": "326d635e-297c-4d57-9d31-b29be00f4255",
   "metadata": {},
   "outputs": [],
   "source": [
    "from art.defences.trainer import AdversarialTrainer\n",
    "\n",
    "def adversarial_training(model, train_loader, test_loader, attack_config):\n",
    "    train_data = []\n",
    "    train_labels = []\n",
    "\n",
    "    for images, labels, _ in train_loader:\n",
    "        train_data.append(images)\n",
    "        train_labels.append(labels.argmax(dim=1))\n",
    "\n",
    "    train_data = torch.cat(train_data).cpu().numpy()\n",
    "    train_labels = torch.cat(train_labels).cpu().numpy()\n",
    "    # Prepare test dataset\n",
    "    test_data = []\n",
    "    test_labels = []\n",
    "    for images, labels, _ in test_loader:\n",
    "        test_data.append(images)\n",
    "        test_labels.append(labels.argmax(dim=1))\n",
    "    \n",
    "    test_data = torch.cat(test_data).cpu().numpy()\n",
    "    test_labels = torch.cat(test_labels).cpu().numpy()\n",
    "    \n",
    "    classifier = PyTorchClassifier(\n",
    "        model=model,\n",
    "        clip_values=(0, 1),\n",
    "        loss=CrossEntropyLoss(),\n",
    "        optimizer=torch.optim.Adam(model.parameters()),\n",
    "        input_shape=(1, 28, 28),\n",
    "        nb_classes=10,\n",
    "        )\n",
    "\n",
    "    attack = ProjectedGradientDescent(\n",
    "        estimator=classifier,\n",
    "        norm=np.inf,\n",
    "        eps=attack_config['eps'],\n",
    "        eps_step=attack_config['eps_step'],\n",
    "        max_iter=attack_config['max_iter'],\n",
    "        targeted=False\n",
    "    )\n",
    "    # Adversarial training\n",
    "    adv_trainer = AdversarialTrainer(classifier, attacks=attack, ratio=1.0)\n",
    "    adv_trainer.fit(x=train_data, y=train_labels, nb_epochs=3)\n",
    "\n",
    "    # After adversarial training, evaluate the model on the original test set\n",
    "    predictions = classifier.predict(test_data)\n",
    "    accuracy_after_training = np.sum(np.argmax(predictions, axis=1) == test_labels) / len(test_labels)\n",
    "    print(f\"Accuracy on original examples after adversarial training: {accuracy_after_training*100:.2f}%\")\n",
    "\n",
    "    # Attack the model again after adversarial training\n",
    "    adv_test_data_after_training = attack.generate(x=test_data, y=test_labels)\n",
    "\n",
    "    # Evaluate the model on the new adversarial examples\n",
    "    predictions_after_training = classifier.predict(adv_test_data_after_training)\n",
    "    accuracy_after_training_on_adv = np.sum(np.argmax(predictions_after_training, axis=1) == test_labels) / len(test_labels)\n",
    "    print(f\"Accuracy on adversarial examples after adversarial training: {accuracy_after_training_on_adv*100:.2f}%\")"
   ]
  },
  {
   "cell_type": "code",
   "execution_count": null,
   "id": "7c963e7f-58bb-4414-9218-311b001dbfea",
   "metadata": {},
   "outputs": [
    {
     "data": {
      "application/vnd.jupyter.widget-view+json": {
       "model_id": "558f260709bd4e41991aba0661e5d7cc",
       "version_major": 2,
       "version_minor": 0
      },
      "text/plain": [
       "Precompute adv samples:   0%|          | 0/1 [00:00<?, ?it/s]"
      ]
     },
     "metadata": {},
     "output_type": "display_data"
    },
    {
     "data": {
      "application/vnd.jupyter.widget-view+json": {
       "model_id": "9ec7ce3e5da74644b06ff13bfe14bb8c",
       "version_major": 2,
       "version_minor": 0
      },
      "text/plain": [
       "Adversarial training epochs:   0%|          | 0/3 [00:00<?, ?it/s]"
      ]
     },
     "metadata": {},
     "output_type": "display_data"
    }
   ],
   "source": [
    "attack_config = dict(\n",
    "    eps=0.2,\n",
    "    eps_step=0.01,\n",
    "    max_iter=20\n",
    ")\n",
    "adversarial_training(sequential, train_loader, test_loader, attack_config)"
   ]
  },
  {
   "cell_type": "code",
   "execution_count": null,
   "id": "fba4ae13-8414-46f3-888c-52e1dd6a83ed",
   "metadata": {},
   "outputs": [],
   "source": []
  }
 ],
 "metadata": {
  "kernelspec": {
   "display_name": "Python 3 (ipykernel)",
   "language": "python",
   "name": "python3"
  },
  "language_info": {
   "codemirror_mode": {
    "name": "ipython",
    "version": 3
   },
   "file_extension": ".py",
   "mimetype": "text/x-python",
   "name": "python",
   "nbconvert_exporter": "python",
   "pygments_lexer": "ipython3",
   "version": "3.10.13"
  }
 },
 "nbformat": 4,
 "nbformat_minor": 5
}
