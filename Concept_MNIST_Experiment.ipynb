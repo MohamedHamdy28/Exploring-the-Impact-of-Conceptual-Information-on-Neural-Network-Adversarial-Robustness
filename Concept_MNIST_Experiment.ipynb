{
  "cells": [
    {
      "cell_type": "code",
      "execution_count": 7,
      "metadata": {
        "colab": {
          "base_uri": "https://localhost:8080/",
          "height": 36
        },
        "id": "78zb9w7bnI49",
        "outputId": "5132b02d-4795-4f40-dad7-8549fc98d1f3"
      },
      "outputs": [
        {
          "output_type": "execute_result",
          "data": {
            "text/plain": [
              "'cuda'"
            ],
            "application/vnd.google.colaboratory.intrinsic+json": {
              "type": "string"
            }
          },
          "metadata": {},
          "execution_count": 7
        }
      ],
      "source": [
        "import torch\n",
        "device = \"cuda\" if torch.cuda.is_available() else \"cpu\"\n",
        "device"
      ]
    },
    {
      "cell_type": "code",
      "source": [
        "from mimetypes import init\n",
        "from pyexpat import model\n",
        "import torch\n",
        "import torch.nn as nn\n",
        "from torch.utils.data import Dataset\n",
        "from torch.utils.data import DataLoader\n",
        "from torchvision.datasets import MNIST\n",
        "from torchvision.transforms import ToTensor, Lambda\n",
        "from torchvision import transforms\n",
        "from torch.nn import CrossEntropyLoss, BCEWithLogitsLoss\n",
        "\n",
        "import matplotlib.pyplot as plt\n",
        "import random\n",
        "import pdb\n",
        "import argparse\n",
        "\n",
        "\n",
        "class MNISTDatasetWithConcepts(Dataset):\n",
        "\tdef __init__(self,split,num_classes,transform):\n",
        "\t\tisTrain = False\n",
        "\t\tif split == \"train\":\n",
        "\t\t\tisTrain=True\n",
        "\t\tself.device = \"cuda\" if torch.cuda.is_available() else \"cpu\"\n",
        "\t\tself.data = MNIST(root = \"./synthetic_datasets\",train=isTrain, download=True)\n",
        "\t\tself.num_classes = num_classes\n",
        "\t\tself.transform = transform\n",
        "\t\t# print(len(set([self.data[i][1] for i in range(len(self.data))])))\n",
        "\n",
        "\tdef __len__(self):\n",
        "\t\treturn len(self.data)\n",
        "\n",
        "\tdef __getitem__(self,idx):\n",
        "\t\timg,label = self.data[idx][0],self.data[idx][1]\n",
        "\t\tonehot = torch.zeros((self.num_classes,))\n",
        "\t\tonehot[label] =1\n",
        "\t\tconcept = self.make_concepts_mnist(label)\n",
        "\t\tlabel = onehot.to(self.device)\n",
        "\t\treturn [self.transform(img).to(self.device),label,concept]\n",
        "\n",
        "\tdef make_concepts_mnist(self,label):\n",
        "\t\tif label == 0:\n",
        "\t\t\thard_label = torch.tensor([1,0,0,0,0,0,0,0,0,0]+[1,0])\n",
        "\t\telif label == 1:\n",
        "\t\t\thard_label = torch.tensor([0,1,0,0,0,0,0,0,0,0]+[0,1])\n",
        "\t\telif label == 2:\n",
        "\t\t\thard_label = torch.tensor([0,0,1,0,0,0,0,0,0,0]+[1,1])\n",
        "\t\telif label == 3:\n",
        "\t\t\thard_label = torch.tensor([0,0,0,1,0,0,0,0,0,0]+[1,0])\n",
        "\t\telif label == 4:\n",
        "\t\t\thard_label = torch.tensor([0,0,0,0,1,0,0,0,0,0]+[0,1])\n",
        "\t\telif label == 5:\n",
        "\t\t\thard_label = torch.tensor([0,0,0,0,0,1,0,0,0,0]+[1,1])\n",
        "\t\telif label == 6:\n",
        "\t\t\thard_label = torch.tensor([0,0,0,0,0,0,1,0,0,0]+[1,0])\n",
        "\t\telif label == 7:\n",
        "\t\t\thard_label = torch.tensor([0,0,0,0,0,0,0,1,0,0]+[0,1])\n",
        "\t\telif label == 8:\n",
        "\t\t\thard_label = torch.tensor([0,0,0,0,0,0,0,0,1,0]+[1,0])\n",
        "\t\telif label == 9:\n",
        "\t\t\thard_label = torch.tensor([0,0,0,0,0,0,0,0,0,1]+[1,0])\n",
        "\n",
        "\t\t# pdb.set_trace()\n",
        "\n",
        "\t\t# hard_label = torch.zeros((self.num_classes,))\n",
        "\t\t# hard_label[label] = 1\n",
        "\t\thard_label = hard_label.float().to(self.device)\n",
        "\t\treturn hard_label\n",
        "\n",
        "\n",
        "def load_mnist_dataloader(split,bsz):\n",
        "\tdataset = MNISTDatasetWithConcepts(split = split, num_classes = 10, transform=ToTensor())\n",
        "\tdataloader = DataLoader(dataset, batch_size=bsz, shuffle=True)\n",
        "\treturn dataloader\n"
      ],
      "metadata": {
        "id": "tHLF_0qo3e1y"
      },
      "execution_count": 8,
      "outputs": []
    },
    {
      "cell_type": "code",
      "execution_count": 9,
      "metadata": {
        "id": "RH6gB5aTnI5D"
      },
      "outputs": [],
      "source": [
        "train_loader = load_mnist_dataloader(split = \"train\",bsz=64)\n",
        "test_loader = load_mnist_dataloader(split = \"test\",bsz=64)"
      ]
    },
    {
      "cell_type": "markdown",
      "metadata": {
        "id": "HqSnURFKnI5D"
      },
      "source": [
        "# Concepts description:\n",
        "\n",
        "1. Non-Overlapping Concepts: Certain real-world concepts\n",
        "are shared by samples belonging to only a specific\n",
        "class instance - for example, in medical diagnosis\n",
        "of cancer, the presence of a specific malicious cell.We\n",
        "attempt to emulate such concepts by creating a vector\n",
        "of concepts which are specific to only a class of digits\n",
        "in MNIST. The easiest way to perform this is to onehot\n",
        "encode labels for each handwritten digit to form a\n",
        "vector of size 10. For example for the number 4, the\n",
        "vector would be represented by [0,0,0,0,1,0,0,0,0,0]\n",
        "where each entry corresponds to a binary concept we\n",
        "call- “isNumi”. Note that no 2 digit classes can share\n",
        "the same vector representation.\n",
        "\n",
        "\n",
        "2. Overlapping Concepts: Next, we emulate real-world\n",
        "concepts which are shared by samples from multiple\n",
        "classes - for example, in the CUB bird identification\n",
        "dataset, the color of the bird being black is shared by\n",
        "multiple bird classes. For MNIST, we consider 2 physical\n",
        "characteristics of numbers in the image - presence\n",
        "of a curved line and a presence of a straight line in\n",
        "their LATEXvisualizations (the way they are printed in\n",
        "LATEXtypeset formatting). We call these concepts as\n",
        "[“CurvedLine:present” , “StraightLine:present”] and\n",
        "are respectively set to 1 if the number can be constructed\n",
        "by only straight lines or curved lines in the\n",
        "standard LATEXtypeset format. For example, the number\n",
        "6 has no straight lines but only curved lines -\n",
        "hence is represented as [1,0] while the number 5 has\n",
        "both straight and curved lines and hence represented\n",
        "as [1,1]. Meanwhile, the number 7 has only straight\n",
        "lines so can be represented as [0,1]. Note that multiple\n",
        "digits can share similar representations, for example\n",
        "both numbers 0 and 6 will be represented by [1,0]."
      ]
    },
    {
      "cell_type": "code",
      "execution_count": 10,
      "metadata": {
        "colab": {
          "base_uri": "https://localhost:8080/",
          "height": 452
        },
        "id": "Arfl_dvUnI5G",
        "outputId": "26f3ee34-c5cd-489e-875b-c49845b9af5f"
      },
      "outputs": [
        {
          "output_type": "display_data",
          "data": {
            "text/plain": [
              "<Figure size 640x480 with 1 Axes>"
            ],
            "image/png": "[encoded data removed]"
          },
          "metadata": {}
        }
      ],
      "source": [
        "import matplotlib.pyplot as plt\n",
        "\n",
        "for images, labels, concepts in train_loader:\n",
        "    img_idx = 8\n",
        "    image = images[img_idx]\n",
        "    fig, ax = plt.subplots(1)\n",
        "    ax.imshow(image.squeeze().cpu(), cmap=\"gray\")\n",
        "    plt.title(f\"Label: {labels[img_idx].argmax()}, Concepts: {concepts[img_idx]}\")\n",
        "    plt.show()\n",
        "    break"
      ]
    },
    {
      "cell_type": "markdown",
      "metadata": {
        "id": "iWQCiyzanI5H"
      },
      "source": [
        "# Building the model"
      ]
    },
    {
      "cell_type": "markdown",
      "metadata": {
        "id": "L2nZEo_6nI5H"
      },
      "source": [
        "The model architecture is taken from the paper [1]."
      ]
    },
    {
      "cell_type": "markdown",
      "metadata": {
        "id": "EJlY9Ex_nI5H"
      },
      "source": [
        "ConceptMNIST: The network g consists of 2 convolutional\n",
        "layers with 32 channels each, along with a maxpool\n",
        "layer in between followed by a fully connected\n",
        "layer. The network f consists of a fully connected layer."
      ]
    },
    {
      "cell_type": "code",
      "execution_count": 11,
      "metadata": {
        "id": "pMto92tdnI5I"
      },
      "outputs": [],
      "source": [
        "import torch\n",
        "import torch.nn as nn\n",
        "import torch.nn.functional as F\n",
        "\n",
        "class g(nn.Module):\n",
        "    \"\"\"The network g consists of 2 convolutional\n",
        "    layers with 32 channels each, along with a maxpool\n",
        "    layer in between followed by a fully connected\n",
        "    layer.\"\"\"\n",
        "\n",
        "    def __init__(self):\n",
        "        super(g, self).__init__()\n",
        "        self.conv1 = nn.Conv2d(1, 32, 3, 1)\n",
        "        self.conv2 = nn.Conv2d(32, 32, 3, 1)\n",
        "        self.fc1 = nn.Linear(800, 128)\n",
        "        self.fc2 = nn.Linear(128, 14)\n",
        "\n",
        "    def forward(self, x):\n",
        "        x = self.conv1(x)\n",
        "        x = F.relu(x)\n",
        "        x = F.max_pool2d(x, 2)\n",
        "        x = self.conv2(x)\n",
        "        x = F.relu(x)\n",
        "        x = F.max_pool2d(x, 2)\n",
        "        x = torch.flatten(x, 1)\n",
        "        x = self.fc1(x)\n",
        "        x = F.relu(x)\n",
        "        x = self.fc2(x)\n",
        "        non_overlapping, overlapping1, overlapping2 = x[:,:10], x[:,10:12], x[:,12:]\n",
        "        return non_overlapping, overlapping1, overlapping2\n",
        "\n",
        "class f(nn.Module):\n",
        "    def __init__(self) -> None:\n",
        "        super(f, self).__init__()\n",
        "        self.fc1 = nn.Linear(14, 32)\n",
        "        self.fc2 = nn.Linear(32, 10)\n",
        "\n",
        "    def forward(self, x):\n",
        "        x = self.fc1(x)\n",
        "        x = F.relu(x)\n",
        "        x = self.fc2(x)\n",
        "        return x\n",
        "\n",
        "def split_concepts(concepts):\n",
        "    return concepts[:,:10], concepts[:,10:]"
      ]
    },
    {
      "cell_type": "markdown",
      "metadata": {
        "id": "crE9Q50FnI5J"
      },
      "source": [
        "# Sequential training"
      ]
    },
    {
      "cell_type": "markdown",
      "metadata": {
        "id": "xjzTxHOunI5J"
      },
      "source": [
        "Sequential Training: Learns the concept model g by\n",
        "minimizing the concept training loss and subsequently\n",
        "learns the class prediction model f by minimizing the\n",
        "classification loss independently. Mathematically it can\n",
        "be thought of minimizing training objective detailed in\n",
        "Equation 4 first with\n",
        "= 0 and then subsequently minimizing\n",
        "with  = 0. As concepts once learned are never\n",
        "updated again during prediction model optimization, the\n",
        "concepts learned are completely independent of the prediction\n",
        "task."
      ]
    },
    {
      "cell_type": "markdown",
      "metadata": {
        "id": "yEIAizWrnI5K"
      },
      "source": [
        "## First we need to learn g"
      ]
    },
    {
      "cell_type": "code",
      "execution_count": 6,
      "metadata": {
        "id": "jGvnqnOInI5K"
      },
      "outputs": [],
      "source": [
        "g_model = g().to(device)\n",
        "optimizer = torch.optim.Adam(g_model.parameters(), lr=1e-4)\n",
        "criterion = nn.CrossEntropyLoss()\n",
        "epochs = 20"
      ]
    },
    {
      "cell_type": "code",
      "execution_count": null,
      "metadata": {
        "id": "lk36BzgfnI5K",
        "outputId": "e7e6f57a-79fe-4166-8108-debba9a5e7b9"
      },
      "outputs": [
        {
          "name": "stdout",
          "output_type": "stream",
          "text": [
            "Epoch: 1, Loss: 0.695\n",
            "Epoch: 2, Loss: 0.232\n",
            "Epoch: 3, Loss: 0.088\n",
            "Epoch: 4, Loss: 0.085\n",
            "Epoch: 5, Loss: 0.158\n",
            "Epoch: 6, Loss: 0.095\n",
            "Epoch: 7, Loss: 0.155\n",
            "Epoch: 8, Loss: 0.131\n",
            "Epoch: 9, Loss: 0.044\n",
            "Epoch: 10, Loss: 0.104\n",
            "Epoch: 11, Loss: 0.133\n",
            "Epoch: 12, Loss: 0.028\n",
            "Epoch: 13, Loss: 0.012\n",
            "Epoch: 14, Loss: 0.126\n",
            "Epoch: 15, Loss: 0.037\n",
            "Epoch: 16, Loss: 0.034\n",
            "Epoch: 17, Loss: 0.022\n",
            "Epoch: 18, Loss: 0.007\n",
            "Epoch: 19, Loss: 0.023\n",
            "Epoch: 20, Loss: 0.070\n"
          ]
        }
      ],
      "source": [
        "\n",
        "\n",
        "def train_g(model, train_loader, epochs, optimizer, criterion):\n",
        "    model.train()\n",
        "    for epoch in range(epochs):\n",
        "        for images, labels, concepts in train_loader:\n",
        "            images, labels, concepts = images.to(device), labels.to(device), concepts.to(device)\n",
        "            y_true_non_overlapping, y_true_overlapping = split_concepts(concepts)\n",
        "            optimizer.zero_grad()\n",
        "\n",
        "            non_overlapping, overlapping1, overlapping2 = model(images)\n",
        "            # Calculate the loss for non_overlaaping concepts\n",
        "            loss_non_overlapping = criterion(non_overlapping, y_true_non_overlapping.argmax(dim=1))\n",
        "            # Calculate the loss for overlapping concepts\n",
        "            loss_overlapping1 = criterion(overlapping1, y_true_overlapping[:,0].long())\n",
        "            loss_overlapping2 = criterion(overlapping2, y_true_overlapping[:,1].long())\n",
        "            # Calculate the total loss\n",
        "            loss = loss_non_overlapping + loss_overlapping1 + loss_overlapping2\n",
        "            loss.backward()\n",
        "            optimizer.step()\n",
        "        print(f\"Epoch: {epoch+1}, Loss: {loss.item():.3f}\")\n",
        "\n",
        "train_g(g_model, train_loader, epochs, optimizer, criterion)"
      ]
    },
    {
      "cell_type": "markdown",
      "metadata": {
        "id": "oA8g4WUlnI5L"
      },
      "source": [
        "### Calculating Accuracy of the concept model"
      ]
    },
    {
      "cell_type": "markdown",
      "metadata": {
        "id": "CZON9BzDnI5L"
      },
      "source": [
        "Non-Overlapping concepts"
      ]
    },
    {
      "cell_type": "code",
      "execution_count": null,
      "metadata": {
        "id": "UnEzc2nRnI5L"
      },
      "outputs": [],
      "source": [
        "def calc_acc_non_overlapping(model, test_loader):\n",
        "    model.eval()\n",
        "    accuracies = []\n",
        "    for images, labels, concepts in test_loader:\n",
        "        images, labels, concepts = images.to(device), labels.to(device), concepts.to(device)\n",
        "        y_true_non_overlapping, _ = split_concepts(concepts)\n",
        "        non_overlapping, _, _ = model(images)\n",
        "        y_pred_non_overlapping = non_overlapping.argmax(dim=1)\n",
        "        acc =  (y_pred_non_overlapping == y_true_non_overlapping.argmax(dim=1)).float().mean().item()\n",
        "        accuracies.append(acc)\n",
        "    return sum(accuracies)/len(accuracies)\n",
        "\n",
        "def calc_acc_overlapping(model, test_loader):\n",
        "    model.eval()\n",
        "    accuracies = []\n",
        "    for images, labels, concepts in test_loader:\n",
        "        images, labels, concepts = images.to(device), labels.to(device), concepts.to(device)\n",
        "        _, y_true_overlapping = split_concepts(concepts)\n",
        "        _, overlapping1, overlapping2 = model(images)\n",
        "        y_pred_overlapping1 = overlapping1.argmax(dim=1)\n",
        "        y_pred_overlapping2 = overlapping2.argmax(dim=1)\n",
        "        acc = ((y_pred_overlapping1 == y_true_overlapping[:,0]) & (y_pred_overlapping2 == y_true_overlapping[:,1])).float().mean().item()\n",
        "        accuracies.append(acc)\n",
        "    return sum(accuracies)/len(accuracies)\n",
        "\n",
        "def calc_acc(model, test_loader):\n",
        "    model.eval()\n",
        "    accuracies = []\n",
        "    for images, labels, concepts in test_loader:\n",
        "        images, labels, concepts = images.to(device), labels.to(device), concepts.to(device)\n",
        "        y_true_non_overlapping, y_true_overlapping = split_concepts(concepts)\n",
        "        non_overlapping, overlapping1, overlapping2 = model(images)\n",
        "        y_pred_non_overlapping = non_overlapping.argmax(dim=1)\n",
        "        y_pred_overlapping1 = overlapping1.argmax(dim=1)\n",
        "        y_pred_overlapping2 = overlapping2.argmax(dim=1)\n",
        "        acc = ((y_pred_non_overlapping == y_true_non_overlapping.argmax(dim=1)) & (y_pred_overlapping1 == y_true_overlapping[:,0]) & (y_pred_overlapping2 == y_true_overlapping[:,1])).float().mean().item()\n",
        "        accuracies.append(acc)\n",
        "    return sum(accuracies)/len(accuracies)"
      ]
    },
    {
      "cell_type": "code",
      "execution_count": null,
      "metadata": {
        "id": "nLgBk31ynI5L",
        "outputId": "494784e0-226c-4d6e-a780-c695a1c8590b"
      },
      "outputs": [
        {
          "name": "stdout",
          "output_type": "stream",
          "text": [
            "Accuracy for non-overlapping concepts: 0.988\n",
            "Accuracy for overlapping concepts: 0.988\n",
            "Accuracy for all concepts: 0.982\n"
          ]
        }
      ],
      "source": [
        "print(f\"Accuracy for non-overlapping concepts: {calc_acc_non_overlapping(g_model, test_loader):.3f}\")\n",
        "print(f\"Accuracy for overlapping concepts: {calc_acc_overlapping(g_model, test_loader):.3f}\")\n",
        "print(f\"Accuracy for all concepts: {calc_acc(g_model, test_loader):.3f}\")"
      ]
    },
    {
      "cell_type": "code",
      "execution_count": null,
      "metadata": {
        "id": "9_CccPGunI5L"
      },
      "outputs": [],
      "source": [
        "# # Saving the trained g_model\n",
        "# torch.save(g_model.state_dict(), \"./models/g_model2.pth\")"
      ]
    },
    {
      "cell_type": "code",
      "execution_count": 12,
      "metadata": {
        "id": "VnrLcDUtnI5M",
        "outputId": "3823c49e-594e-4804-c9a5-6c0ea1257f88",
        "colab": {
          "base_uri": "https://localhost:8080/"
        }
      },
      "outputs": [
        {
          "output_type": "execute_result",
          "data": {
            "text/plain": [
              "<All keys matched successfully>"
            ]
          },
          "metadata": {},
          "execution_count": 12
        }
      ],
      "source": [
        "# loading g_trained_model\n",
        "g_model = g().to(device)\n",
        "g_model.load_state_dict(torch.load(\"g_model1.pth\"))"
      ]
    },
    {
      "cell_type": "markdown",
      "metadata": {
        "id": "ZLhxqH0JnI5M"
      },
      "source": [
        "## Then we learn f by using the learned g"
      ]
    },
    {
      "cell_type": "code",
      "execution_count": null,
      "metadata": {
        "id": "7nTnl6QFnI5M"
      },
      "outputs": [],
      "source": [
        "f_model = f().to(device)\n",
        "optimizer = torch.optim.Adam(f_model.parameters(), lr=1e-4)\n",
        "criterion = nn.CrossEntropyLoss()\n",
        "epochs = 20"
      ]
    },
    {
      "cell_type": "code",
      "execution_count": null,
      "metadata": {
        "id": "DhmqrvBinI5N",
        "outputId": "3647d8b0-ca1c-4d96-b506-ea64870723da"
      },
      "outputs": [
        {
          "name": "stdout",
          "output_type": "stream",
          "text": [
            "Epoch: 1, Loss: 0.223\n",
            "Epoch: 2, Loss: 0.116\n",
            "Epoch: 3, Loss: 0.067\n",
            "Epoch: 4, Loss: 0.060\n",
            "Epoch: 5, Loss: 0.010\n",
            "Epoch: 6, Loss: 0.041\n",
            "Epoch: 7, Loss: 0.007\n",
            "Epoch: 8, Loss: 0.013\n",
            "Epoch: 9, Loss: 0.012\n",
            "Epoch: 10, Loss: 0.006\n",
            "Epoch: 11, Loss: 0.014\n",
            "Epoch: 12, Loss: 0.011\n",
            "Epoch: 13, Loss: 0.021\n",
            "Epoch: 14, Loss: 0.005\n",
            "Epoch: 15, Loss: 0.025\n",
            "Epoch: 16, Loss: 0.008\n",
            "Epoch: 17, Loss: 0.002\n",
            "Epoch: 18, Loss: 0.087\n",
            "Epoch: 19, Loss: 0.112\n",
            "Epoch: 20, Loss: 0.008\n"
          ]
        }
      ],
      "source": [
        "def train_f(f_model, g_model, train_loader, optimizer, criterion, epochs):\n",
        "    f_model.train()\n",
        "    for epoch in range(epochs):\n",
        "        for images, labels, _ in train_loader:\n",
        "            images, labels = images.to(device), labels.to(device)\n",
        "            optimizer.zero_grad()\n",
        "\n",
        "            non_overlapping, overlapping1, overlapping2 = g_model(images)\n",
        "            # Concatenate the concepts\n",
        "            overlapping = torch.cat([non_overlapping, overlapping1, overlapping2], dim=1)\n",
        "            y_pred = f_model(overlapping)\n",
        "            loss = criterion(y_pred, labels.argmax(dim=1))\n",
        "            loss.backward()\n",
        "            optimizer.step()\n",
        "        print(f\"Epoch: {epoch+1}, Loss: {loss.item():.3f}\")\n",
        "train_f(f_model, g_model, train_loader, optimizer, criterion, epochs)"
      ]
    },
    {
      "cell_type": "code",
      "execution_count": null,
      "metadata": {
        "id": "H9RpIy5RnI5N",
        "outputId": "5df99a10-a0f9-4aa0-b960-bd5770ea25f2"
      },
      "outputs": [
        {
          "data": {
            "text/plain": [
              "0.9875597133757962"
            ]
          },
          "execution_count": 20,
          "metadata": {},
          "output_type": "execute_result"
        }
      ],
      "source": [
        "def calc_acc_prediction(g_model, f_model, test_loader):\n",
        "    accuracies = []\n",
        "    for images, labels, _ in test_loader:\n",
        "        images, labels = images.to(device), labels.to(device)\n",
        "        non_overlapping, overlapping1, overlapping2 = g_model(images)\n",
        "        overlapping = torch.cat([non_overlapping, overlapping1, overlapping2], dim=1)\n",
        "        y_pred = f_model(overlapping)\n",
        "        y_pred = y_pred.argmax(dim=1)\n",
        "        acc = (y_pred == labels.argmax(dim=1)).float().mean().item()\n",
        "        accuracies.append(acc)\n",
        "    return sum(accuracies)/len(accuracies)\n",
        "\n",
        "calc_acc_prediction(g_model, f_model, test_loader)"
      ]
    },
    {
      "cell_type": "code",
      "execution_count": null,
      "metadata": {
        "id": "lDkfZAzOnI5N"
      },
      "outputs": [],
      "source": [
        "# # Saving the f_model\n",
        "# torch.save(f_model.state_dict(), \"./models/sequential model/f_model1.pth\")"
      ]
    },
    {
      "cell_type": "code",
      "source": [
        "# loading f_trained_model\n",
        "f_model = f().to(device)\n",
        "f_model.load_state_dict(torch.load(\"f_model1.pth\"))"
      ],
      "metadata": {
        "colab": {
          "base_uri": "https://localhost:8080/"
        },
        "id": "O3w8eHo_5zcq",
        "outputId": "38cf9dc2-d430-437d-c628-512e1e83e553"
      },
      "execution_count": 13,
      "outputs": [
        {
          "output_type": "execute_result",
          "data": {
            "text/plain": [
              "<All keys matched successfully>"
            ]
          },
          "metadata": {},
          "execution_count": 13
        }
      ]
    },
    {
      "cell_type": "code",
      "source": [
        "# Building a sequential training model class\n",
        "\n",
        "class Sequential(nn.Module):\n",
        "  def __init__(self, g_model, f_model):\n",
        "    super(Sequential, self).__init__()\n",
        "    self.g_model = g_model\n",
        "    self.f_model = f_model\n",
        "\n",
        "  def forward(self, x):\n",
        "    concepts = self.g_model(x)\n",
        "    non_overlapping, overlapping1, overlapping2 = self.g_model(x)\n",
        "    # Concatenate the concepts\n",
        "    overlapping = torch.cat([non_overlapping, overlapping1, overlapping2], dim=1)\n",
        "    return self.f_model(overlapping)"
      ],
      "metadata": {
        "id": "91fGPt1x5dw4"
      },
      "execution_count": 23,
      "outputs": []
    },
    {
      "cell_type": "code",
      "source": [
        "def calc_acc_prediction(model, test_loader):\n",
        "    accuracies = []\n",
        "    for images, labels, _ in test_loader:\n",
        "        images, labels = images.to(device), labels.to(device)\n",
        "        y_pred = model(images)\n",
        "        y_pred = y_pred.argmax(dim=1)\n",
        "        acc = (y_pred == labels.argmax(dim=1)).float().mean().item()\n",
        "        accuracies.append(acc)\n",
        "    return sum(accuracies)/len(accuracies)\n",
        "\n",
        "model = Sequential(g_model, f_model)\n",
        "calc_acc_prediction(model, test_loader)"
      ],
      "metadata": {
        "colab": {
          "base_uri": "https://localhost:8080/"
        },
        "id": "RZOerBwS6xni",
        "outputId": "af7a3e83-5743-4193-a2a4-a8f749f88c6f"
      },
      "execution_count": 25,
      "outputs": [
        {
          "output_type": "execute_result",
          "data": {
            "text/plain": [
              "0.9872611464968153"
            ]
          },
          "metadata": {},
          "execution_count": 25
        }
      ]
    },
    {
      "cell_type": "markdown",
      "metadata": {
        "id": "oQqpqS-GnI5O"
      },
      "source": [
        "# Joint training"
      ]
    },
    {
      "cell_type": "markdown",
      "metadata": {
        "id": "ZPdLMI-BnI5O"
      },
      "source": [
        "Joint Training: Learns both concept and prediction\n",
        "models (f and g) by minimizing both concept and classification\n",
        "loss jointly in an end-to-end manner. Mathematically\n",
        "it can be thought of minimizing the entire training\n",
        "objective Equation 4 with appropriate values of\n",
        "and .\n",
        "As concepts and prediction task are learned jointly, concepts\n",
        "learned are not independent of the prediction task\n",
        "as there is some guidance of gradient directions from the\n",
        "prediction part of the model f in the concept model g."
      ]
    },
    {
      "cell_type": "code",
      "execution_count": null,
      "metadata": {
        "id": "4vZozYUPnI5O"
      },
      "outputs": [],
      "source": [
        "import torch\n",
        "import torch.nn as nn\n",
        "import torch.nn.functional as F\n",
        "\n",
        "class Joint(nn.Module):\n",
        "    def __init__(self, g_model, f_model):\n",
        "        super(Joint, self).__init__()\n",
        "        self.g_model = g_model\n",
        "        self.f_model = f_model\n",
        "\n",
        "    def forward(self, x):\n",
        "        non_overlapping, overlapping1, overlapping2 = self.g_model(x)\n",
        "        overlapping = torch.cat([non_overlapping, overlapping1, overlapping2], dim=1)\n",
        "        y_pred = self.f_model(overlapping)\n",
        "        return y_pred, non_overlapping, overlapping1, overlapping2\n"
      ]
    },
    {
      "cell_type": "code",
      "execution_count": null,
      "metadata": {
        "id": "OVsONVa4nI5O"
      },
      "outputs": [],
      "source": [
        "pred_loss_weight, concepts_loss_weight = 0.5, 1"
      ]
    },
    {
      "cell_type": "code",
      "execution_count": null,
      "metadata": {
        "colab": {
          "base_uri": "https://localhost:8080/"
        },
        "id": "tzGBuQ1UnI5O",
        "outputId": "42dbe257-a4aa-4c9d-8352-9c8471887d95"
      },
      "outputs": [
        {
          "output_type": "stream",
          "name": "stdout",
          "text": [
            "Epoch: 1, Loss: 0.936\n",
            "Epoch: 2, Loss: 0.861\n",
            "Epoch: 3, Loss: 0.300\n",
            "Epoch: 4, Loss: 0.776\n",
            "Epoch: 5, Loss: 0.180\n",
            "Epoch: 6, Loss: 0.547\n",
            "Epoch: 7, Loss: 0.173\n",
            "Epoch: 8, Loss: 0.140\n",
            "Epoch: 9, Loss: 0.341\n",
            "Epoch: 10, Loss: 0.021\n",
            "Epoch: 11, Loss: 0.080\n",
            "Epoch: 12, Loss: 0.044\n",
            "Epoch: 13, Loss: 0.754\n",
            "Epoch: 14, Loss: 0.016\n",
            "Epoch: 15, Loss: 0.408\n",
            "Epoch: 16, Loss: 0.110\n",
            "Epoch: 17, Loss: 0.115\n",
            "Epoch: 18, Loss: 0.170\n",
            "Epoch: 19, Loss: 0.029\n",
            "Epoch: 20, Loss: 0.300\n"
          ]
        }
      ],
      "source": [
        "def calc_loss(y_pred, labels, non_overlapping, overlapping1, overlapping2, y_true_non_overlapping, y_true_overlapping, criterion, pred_loss_weight, concepts_loss_weight):\n",
        "\n",
        "    # Calculate the loss for non_overlaaping concepts\n",
        "    loss_non_overlapping = criterion(non_overlapping, y_true_non_overlapping.argmax(dim=1))\n",
        "    # Calculate the loss for overlapping concepts\n",
        "    loss_overlapping1 = criterion(overlapping1, y_true_overlapping[:,0].long())\n",
        "    loss_overlapping2 = criterion(overlapping2, y_true_overlapping[:,1].long())\n",
        "    # Calculate the loss for concepts\n",
        "    concept_loss = loss_non_overlapping + loss_overlapping1 + loss_overlapping2\n",
        "\n",
        "    # Calculate the loss for prediction\n",
        "    pred_loss = criterion(y_pred, labels.argmax(dim=1))\n",
        "\n",
        "    loss = pred_loss_weight * pred_loss + concepts_loss_weight * concept_loss\n",
        "    return loss\n",
        "\n",
        "def train_joint(model, train_loader, epochs, optimizer, criterion):\n",
        "    model.train()\n",
        "    for epoch in range(epochs):\n",
        "        for images, labels, concepts in train_loader:\n",
        "            images, labels, concepts = images.to(device), labels.to(device), concepts.to(device)\n",
        "            optimizer.zero_grad()\n",
        "            y_true_non_overlapping, y_true_overlapping = split_concepts(concepts)\n",
        "            y_pred, non_overlapping, overlapping1, overlapping2 = model(images)\n",
        "            loss = calc_loss(y_pred, labels, non_overlapping, overlapping1, overlapping2, y_true_non_overlapping, y_true_overlapping, criterion, 1, 1)\n",
        "            loss.backward()\n",
        "            optimizer.step()\n",
        "        print(f\"Epoch: {epoch+1}, Loss: {loss.item():.3f}\")\n",
        "g_model = g().to(device)\n",
        "f_model = f().to(device)\n",
        "joint_model = Joint(g_model, f_model).to(device)\n",
        "optimizer = torch.optim.Adam(joint_model.parameters(), lr=1e-4)\n",
        "criterion = nn.CrossEntropyLoss()\n",
        "epochs = 20\n",
        "train_joint(joint_model, train_loader, epochs, optimizer, criterion)\n"
      ]
    },
    {
      "cell_type": "code",
      "execution_count": null,
      "metadata": {
        "id": "-pI8UJE2nI5P"
      },
      "outputs": [],
      "source": [
        "# Saving the joint_model\n",
        "# torch.save(joint_model.state_dict(), \"./models/joint/joint_model1.pth\")"
      ]
    },
    {
      "cell_type": "code",
      "execution_count": null,
      "metadata": {
        "colab": {
          "base_uri": "https://localhost:8080/"
        },
        "id": "FlruqONGnI5P",
        "outputId": "f97ed21f-eabc-4838-a5ae-6faefe5afafd"
      },
      "outputs": [
        {
          "output_type": "execute_result",
          "data": {
            "text/plain": [
              "<All keys matched successfully>"
            ]
          },
          "metadata": {},
          "execution_count": 12
        }
      ],
      "source": [
        "g_model = g().to(device)\n",
        "f_model = f().to(device)\n",
        "joint_model = Joint(g_model, f_model).to(device)\n",
        "joint_model.load_state_dict(torch.load(\"joint_model1.pth\"))"
      ]
    },
    {
      "cell_type": "code",
      "execution_count": null,
      "metadata": {
        "colab": {
          "base_uri": "https://localhost:8080/"
        },
        "id": "R01ohXTFnI5P",
        "outputId": "591620ef-be63-42f9-86d8-51bbac618f7e"
      },
      "outputs": [
        {
          "output_type": "execute_result",
          "data": {
            "text/plain": [
              "0.9868630573248408"
            ]
          },
          "metadata": {},
          "execution_count": 13
        }
      ],
      "source": [
        "def test_joint(model, test_loader):\n",
        "    model.eval()\n",
        "    accuracies = []\n",
        "    for images, labels, concepts in test_loader:\n",
        "        images, labels, concepts = images.to(device), labels.to(device), concepts.to(device)\n",
        "        y_pred, _, _, _ = model(images)\n",
        "        acc = (y_pred.argmax(dim=1) == labels.argmax(dim=1)).float().mean().item()\n",
        "        accuracies.append(acc)\n",
        "    return sum(accuracies)/len(accuracies)\n",
        "test_joint(joint_model, test_loader)"
      ]
    },
    {
      "cell_type": "markdown",
      "metadata": {
        "id": "jXI9AbHXnI5P"
      },
      "source": [
        "# Targeted attacks"
      ]
    },
    {
      "cell_type": "code",
      "execution_count": null,
      "metadata": {
        "colab": {
          "base_uri": "https://localhost:8080/"
        },
        "id": "NKcwL2QtnI5Q",
        "outputId": "e2007e9b-b3ff-42b1-fb61-7c65d0bd3456"
      },
      "outputs": [
        {
          "output_type": "stream",
          "name": "stdout",
          "text": [
            "Running iteration 0\n",
            "Running iteration 1\n",
            "Running iteration 2\n",
            "Running iteration 3\n",
            "Running iteration 4\n",
            "Running iteration 5\n",
            "Running iteration 6\n",
            "Running iteration 7\n",
            "Running iteration 8\n",
            "Running iteration 9\n",
            "Running iteration 10\n",
            "Running iteration 11\n",
            "Running iteration 12\n",
            "Running iteration 13\n",
            "Running iteration 14\n",
            "Running iteration 15\n",
            "Running iteration 16\n",
            "Running iteration 17\n",
            "Running iteration 18\n",
            "Running iteration 19\n",
            "Running iteration 20\n",
            "Running iteration 21\n",
            "Running iteration 22\n",
            "Running iteration 23\n",
            "Running iteration 24\n",
            "Running iteration 25\n",
            "Running iteration 26\n",
            "Running iteration 27\n",
            "Running iteration 28\n",
            "Running iteration 29\n",
            "Running iteration 30\n",
            "Running iteration 31\n",
            "Running iteration 32\n",
            "Running iteration 33\n",
            "Running iteration 34\n",
            "Running iteration 35\n",
            "Running iteration 36\n",
            "Running iteration 37\n",
            "Running iteration 38\n",
            "Running iteration 39\n"
          ]
        }
      ],
      "source": [
        "def pgd_linf_targ(model, X, y, epsilon, alpha, num_iter, y_targ):\n",
        "    delta = torch.zeros_like(X, requires_grad=True)\n",
        "    for t in range(num_iter):\n",
        "        print(f\"Running iteration {t}\")\n",
        "        yp, _, _, _ = model(X + delta)\n",
        "        loss = 2*yp[:, y_targ].sum() - yp.sum()\n",
        "        loss.backward()\n",
        "\n",
        "        delta = delta + alpha * delta.grad.detach().sign()\n",
        "        delta = delta.clamp(-epsilon, epsilon).detach().requires_grad_(True)\n",
        "\n",
        "        # Clear gradients after updating delta\n",
        "        if delta.grad is not None:\n",
        "            delta.grad.zero_()\n",
        "    return delta.detach()\n",
        "\n",
        "\n",
        "for images, labels, concepts in test_loader:\n",
        "    images, labels, concepts = images.to(device), labels.to(device), concepts.to(device)\n",
        "    break\n",
        "delta = pgd_linf_targ(joint_model, images, labels, epsilon=0.4, alpha=1e-2, num_iter=40, y_targ=2)\n",
        "yp, _,_,_ = joint_model(images + delta)"
      ]
    },
    {
      "cell_type": "code",
      "source": [
        "def pgd_linf_targ(model, data_loader, epsilon, alpha, num_iter, y_targ, example):\n",
        "    \"\"\"\n",
        "      Training on the whole test set\n",
        "    \"\"\"\n",
        "    delta = torch.zeros_like(example, requires_grad=True)\n",
        "    for t in range(num_iter):\n",
        "      print(f\"Running iteration {t}\")\n",
        "      for X, y, concepts in data_loader:\n",
        "        X, y, concepts = images.to(device), labels.to(device), concepts.to(device)\n",
        "        yp, _, _, _ = model(X + delta)\n",
        "        loss = 2*yp[:, y_targ].sum() - yp.sum()\n",
        "        loss.backward()\n",
        "\n",
        "        delta = delta + alpha * delta.grad.detach().sign()\n",
        "        delta = delta.clamp(-epsilon, epsilon).detach().requires_grad_(True)\n",
        "\n",
        "        # Clear gradients after updating delta\n",
        "        if delta.grad is not None:\n",
        "            delta.grad.zero_()\n",
        "    return delta.detach()\n",
        "\n",
        "\n",
        "for images, labels, concepts in test_loader:\n",
        "    images, labels, concepts = images.to(device), labels.to(device), concepts.to(device)\n",
        "    break\n",
        "delta = pgd_linf_targ(joint_model, test_loader, epsilon=0.4, alpha=1e-2, num_iter=20, y_targ=2, example=images)\n",
        "yp, _,_,_ = joint_model(images + delta)"
      ],
      "metadata": {
        "colab": {
          "base_uri": "https://localhost:8080/"
        },
        "id": "3KP6ca767wEH",
        "outputId": "1585f40d-ba97-4e33-8f12-e587a77dd929"
      },
      "execution_count": null,
      "outputs": [
        {
          "output_type": "stream",
          "name": "stdout",
          "text": [
            "Running iteration 0\n",
            "Running iteration 1\n",
            "Running iteration 2\n",
            "Running iteration 3\n",
            "Running iteration 4\n",
            "Running iteration 5\n",
            "Running iteration 6\n",
            "Running iteration 7\n",
            "Running iteration 8\n",
            "Running iteration 9\n",
            "Running iteration 10\n",
            "Running iteration 11\n",
            "Running iteration 12\n",
            "Running iteration 13\n",
            "Running iteration 14\n",
            "Running iteration 15\n",
            "Running iteration 16\n",
            "Running iteration 17\n",
            "Running iteration 18\n",
            "Running iteration 19\n",
            "Running iteration 20\n",
            "Running iteration 21\n",
            "Running iteration 22\n",
            "Running iteration 23\n",
            "Running iteration 24\n",
            "Running iteration 25\n",
            "Running iteration 26\n",
            "Running iteration 27\n",
            "Running iteration 28\n",
            "Running iteration 29\n",
            "Running iteration 30\n",
            "Running iteration 31\n",
            "Running iteration 32\n",
            "Running iteration 33\n",
            "Running iteration 34\n",
            "Running iteration 35\n",
            "Running iteration 36\n",
            "Running iteration 37\n",
            "Running iteration 38\n",
            "Running iteration 39\n"
          ]
        }
      ]
    },
    {
      "cell_type": "code",
      "execution_count": null,
      "metadata": {
        "id": "EayC7c1TnI5Q"
      },
      "outputs": [],
      "source": [
        "import matplotlib.pyplot as plt\n",
        "\n",
        "def plot_images(X,y,yp,M,N):\n",
        "    f,ax = plt.subplots(M,N, sharex=True, sharey=True, figsize=(N,M*1.3))\n",
        "    for i in range(M):\n",
        "        for j in range(N):\n",
        "            ax[i][j].imshow(1-X[i*N+j][0].cpu().numpy(), cmap=\"gray\")\n",
        "            title = ax[i][j].set_title(\"Pred: {}\".format(yp[i*N+j]))\n",
        "            plt.setp(title, color=('g' if yp[i*N+j] == y[i*N+j].argmax() else 'r'))\n",
        "            ax[i][j].set_axis_off()\n",
        "    plt.tight_layout()"
      ]
    },
    {
      "cell_type": "code",
      "execution_count": null,
      "metadata": {
        "colab": {
          "base_uri": "https://localhost:8080/",
          "height": 511
        },
        "id": "EOh4lWeRnI5Q",
        "outputId": "cf82e76c-97a8-49b2-8f77-3cbc84013e6a"
      },
      "outputs": [
        {
          "output_type": "display_data",
          "data": {
            "text/plain": [
              "<Figure size 400x520 with 16 Axes>"
            ],
            "image/png": "[encoded data removed]"
          },
          "metadata": {}
        }
      ],
      "source": [
        "plot_images(images+delta, labels, yp.argmax(dim=1), 4, 4)"
      ]
    },
    {
      "cell_type": "code",
      "source": [
        "delta.shape"
      ],
      "metadata": {
        "colab": {
          "base_uri": "https://localhost:8080/"
        },
        "id": "5CUryIx-6VCL",
        "outputId": "c2093ec2-f0ac-4840-94aa-3aa1cfe9396f"
      },
      "execution_count": null,
      "outputs": [
        {
          "output_type": "execute_result",
          "data": {
            "text/plain": [
              "torch.Size([64, 1, 28, 28])"
            ]
          },
          "metadata": {},
          "execution_count": 49
        }
      ]
    },
    {
      "cell_type": "code",
      "source": [
        "def test_joint_addv(model, test_loader, delta):\n",
        "    model.eval()\n",
        "    accuracies = []\n",
        "    for images, labels, concepts in test_loader:\n",
        "        images, labels, concepts = images.to(device), labels.to(device), concepts.to(device)\n",
        "        y_pred, _, _, _ = model(images + delta[:images.shape[0]])\n",
        "        acc = (y_pred.argmax(dim=1) == labels.argmax(dim=1)).float().mean().item()\n",
        "        accuracies.append(acc)\n",
        "    return sum(accuracies)/len(accuracies)\n",
        "test_joint_addv(joint_model, test_loader, delta)"
      ],
      "metadata": {
        "colab": {
          "base_uri": "https://localhost:8080/"
        },
        "id": "Kjk9-Tz45vR0",
        "outputId": "5372b0a9-7081-41e5-b259-3c92f1b6f8f7"
      },
      "execution_count": null,
      "outputs": [
        {
          "output_type": "execute_result",
          "data": {
            "text/plain": [
              "0.2282046178343949"
            ]
          },
          "metadata": {},
          "execution_count": 59
        }
      ]
    },
    {
      "cell_type": "markdown",
      "source": [
        "# Creating a standard CNN model"
      ],
      "metadata": {
        "id": "yr9KydKZ-1LU"
      }
    },
    {
      "cell_type": "code",
      "source": [
        "import torch\n",
        "import torch.nn as nn\n",
        "import torch.nn.functional as F\n",
        "\n",
        "class CNN(nn.Module):\n",
        "  def __init__(self):\n",
        "      super(CNN, self).__init__()\n",
        "      self.conv1 = nn.Conv2d(1, 32, 3, 1)\n",
        "      self.conv2 = nn.Conv2d(32, 32, 3, 1)\n",
        "      self.fc1 = nn.Linear(800, 128)\n",
        "      self.fc2 = nn.Linear(128, 10)\n",
        "\n",
        "  def forward(self, x):\n",
        "    x = self.conv1(x)\n",
        "    x = F.relu(x)\n",
        "    x = F.max_pool2d(x, 2)\n",
        "    x = self.conv2(x)\n",
        "    x = F.relu(x)\n",
        "    x = F.max_pool2d(x, 2)\n",
        "    x = torch.flatten(x, 1)\n",
        "    x = self.fc1(x)\n",
        "    x = F.relu(x)\n",
        "    x = self.fc2(x)\n",
        "    return x\n",
        "\n"
      ],
      "metadata": {
        "id": "6meEV_Xc-4dm"
      },
      "execution_count": null,
      "outputs": []
    },
    {
      "cell_type": "code",
      "source": [
        "cnn_model = CNN().to(device)\n",
        "criterion = nn.CrossEntropyLoss()\n",
        "optimizer = torch.optim.Adam(cnn_model.parameters(), lr=1e-4)\n",
        "epochs = 20"
      ],
      "metadata": {
        "id": "QsXYHhEHFYVX"
      },
      "execution_count": null,
      "outputs": []
    },
    {
      "cell_type": "code",
      "source": [
        "def train_cnn(model, train_loader, epochs, optimizer, criterion):\n",
        "    model.train()\n",
        "    for epoch in range(epochs):\n",
        "        for images, labels, _ in train_loader:\n",
        "            images, labels = images.to(device), labels.to(device)\n",
        "            optimizer.zero_grad()\n",
        "\n",
        "            y_pred = model(images)\n",
        "            loss = criterion(y_pred, labels.argmax(dim=1))\n",
        "            loss.backward()\n",
        "            optimizer.step()\n",
        "        print(f\"Epoch: {epoch+1}, Loss: {loss.item():.3f}\")\n",
        "\n",
        "train_cnn(cnn_model, train_loader, epochs, optimizer, criterion)"
      ],
      "metadata": {
        "colab": {
          "base_uri": "https://localhost:8080/"
        },
        "id": "kF5mdAwBFpkA",
        "outputId": "d96f514c-8b61-4f1c-fa69-032118e03a69"
      },
      "execution_count": null,
      "outputs": [
        {
          "output_type": "stream",
          "name": "stdout",
          "text": [
            "Epoch: 1, Loss: 0.727\n",
            "Epoch: 2, Loss: 0.057\n",
            "Epoch: 3, Loss: 0.332\n",
            "Epoch: 4, Loss: 0.093\n",
            "Epoch: 5, Loss: 0.040\n",
            "Epoch: 6, Loss: 0.029\n",
            "Epoch: 7, Loss: 0.014\n",
            "Epoch: 8, Loss: 0.040\n",
            "Epoch: 9, Loss: 0.016\n",
            "Epoch: 10, Loss: 0.015\n",
            "Epoch: 11, Loss: 0.002\n",
            "Epoch: 12, Loss: 0.018\n",
            "Epoch: 13, Loss: 0.055\n",
            "Epoch: 14, Loss: 0.008\n",
            "Epoch: 15, Loss: 0.014\n",
            "Epoch: 16, Loss: 0.005\n",
            "Epoch: 17, Loss: 0.006\n",
            "Epoch: 18, Loss: 0.017\n",
            "Epoch: 19, Loss: 0.002\n",
            "Epoch: 20, Loss: 0.008\n"
          ]
        }
      ]
    },
    {
      "cell_type": "code",
      "source": [
        "def test_cnn(model, test_loader):\n",
        "  model.eval()\n",
        "  accuracies = []\n",
        "  for images, labels, _ in test_loader:\n",
        "    images, labels = images.to(device), labels.to(device)\n",
        "    y_pred = model(images).argmax(dim=1)\n",
        "    acc = (y_pred == labels.argmax(dim=1)).float().mean().item()\n",
        "    accuracies.append(acc)\n",
        "  return sum(accuracies)/len(accuracies)\n",
        "test_cnn(cnn_model, test_loader)"
      ],
      "metadata": {
        "colab": {
          "base_uri": "https://localhost:8080/"
        },
        "id": "VUS-XhlMGIbt",
        "outputId": "01f34c36-7f59-4027-b430-474e70e4d9aa"
      },
      "execution_count": null,
      "outputs": [
        {
          "output_type": "execute_result",
          "data": {
            "text/plain": [
              "0.9884554140127388"
            ]
          },
          "metadata": {},
          "execution_count": 11
        }
      ]
    },
    {
      "cell_type": "markdown",
      "source": [
        "# Target attacks on standard networks"
      ],
      "metadata": {
        "id": "8WEAt0ETIpUS"
      }
    },
    {
      "cell_type": "code",
      "source": [
        "def pgd_linf_targ(model, data_loader, epsilon, alpha, num_iter, y_targ, example):\n",
        "    delta = torch.zeros_like(example, requires_grad=True)\n",
        "    for t in range(num_iter):\n",
        "      print(f\"Running iteration {t}\")\n",
        "      for X, y, concepts in data_loader:\n",
        "        X, y, concepts = images.to(device), labels.to(device), concepts.to(device)\n",
        "        yp = model(X + delta)\n",
        "        loss = 2*yp[:, y_targ].sum() - yp.sum()\n",
        "        loss.backward()\n",
        "\n",
        "        delta = delta + alpha * delta.grad.detach().sign()\n",
        "        delta = delta.clamp(-epsilon, epsilon).detach().requires_grad_(True)\n",
        "\n",
        "        # Clear gradients after updating delta\n",
        "        if delta.grad is not None:\n",
        "            delta.grad.zero_()\n",
        "    return delta.detach()\n",
        "\n",
        "\n",
        "for images, labels, concepts in test_loader:\n",
        "    images, labels, concepts = images.to(device), labels.to(device), concepts.to(device)\n",
        "    break\n",
        "delta = pgd_linf_targ(cnn_model, test_loader, epsilon=0.4, alpha=1e-2, num_iter=20, y_targ=2, example=images)"
      ],
      "metadata": {
        "colab": {
          "base_uri": "https://localhost:8080/"
        },
        "id": "Fbzf9Fg0Iy9i",
        "outputId": "799a674e-85e6-4183-f33d-5659dc3e9035"
      },
      "execution_count": null,
      "outputs": [
        {
          "output_type": "stream",
          "name": "stdout",
          "text": [
            "Running iteration 0\n",
            "Running iteration 1\n",
            "Running iteration 2\n",
            "Running iteration 3\n",
            "Running iteration 4\n",
            "Running iteration 5\n",
            "Running iteration 6\n",
            "Running iteration 7\n",
            "Running iteration 8\n",
            "Running iteration 9\n",
            "Running iteration 10\n",
            "Running iteration 11\n",
            "Running iteration 12\n",
            "Running iteration 13\n",
            "Running iteration 14\n",
            "Running iteration 15\n",
            "Running iteration 16\n",
            "Running iteration 17\n",
            "Running iteration 18\n",
            "Running iteration 19\n"
          ]
        }
      ]
    },
    {
      "cell_type": "code",
      "source": [
        "def test_cnn_addv(model, test_loader, delta):\n",
        "    model.eval()\n",
        "    accuracies = []\n",
        "    for images, labels, concepts in test_loader:\n",
        "        images, labels, concepts = images.to(device), labels.to(device), concepts.to(device)\n",
        "        y_pred = model(images + delta[:images.shape[0]])\n",
        "        acc = (y_pred.argmax(dim=1) == labels.argmax(dim=1)).float().mean().item()\n",
        "        accuracies.append(acc)\n",
        "    return sum(accuracies)/len(accuracies)\n",
        "test_cnn_addv(cnn_model, test_loader, delta)"
      ],
      "metadata": {
        "colab": {
          "base_uri": "https://localhost:8080/"
        },
        "id": "ltXqKzqHJI7E",
        "outputId": "f223a8f0-669f-445b-b2e7-64053b55cd5a"
      },
      "execution_count": null,
      "outputs": [
        {
          "output_type": "execute_result",
          "data": {
            "text/plain": [
              "0.1279856687898089"
            ]
          },
          "metadata": {},
          "execution_count": 16
        }
      ]
    },
    {
      "cell_type": "markdown",
      "metadata": {
        "id": "5Y4rfHpanI5W"
      },
      "source": [
        "# References"
      ]
    },
    {
      "cell_type": "markdown",
      "metadata": {
        "id": "pat6IKkVnI5W"
      },
      "source": [
        "[1] Understanding and Enhancing Robustness of Concept-based Models"
      ]
    }
  ],
  "metadata": {
    "kernelspec": {
      "display_name": "Python 3",
      "name": "python3"
    },
    "language_info": {
      "codemirror_mode": {
        "name": "ipython",
        "version": 3
      },
      "file_extension": ".py",
      "mimetype": "text/x-python",
      "name": "python",
      "nbconvert_exporter": "python",
      "pygments_lexer": "ipython3",
      "version": "3.9.12"
    },
    "colab": {
      "provenance": [],
      "gpuType": "T4"
    },
    "accelerator": "GPU"
  },
  "nbformat": 4,
  "nbformat_minor": 0
}